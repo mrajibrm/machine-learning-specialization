{
 "cells": [
  {
   "cell_type": "markdown",
   "id": "8aa6bd34-0b55-489c-a182-f05f1fbbf9d7",
   "metadata": {},
   "source": [
    "<a name='1'> </a>\n",
    "\n",
    "# 1. Set up Credentials for downloading data directly from Kaggle\n",
    "\n",
    "- You can have your own credentials by visiting [Kaggle](https://www.kaggle.com/)\n",
    "- Follow the bellow Procedures to generate your own credentials: <br>\n",
    "$\\rightarrow$ Sign Up / Sign In to your Kaggle profile. <br>\n",
    "$\\rightarrow$ Click Your Profile  Avatar.<br>\n",
    "$\\rightarrow$ Click on Settings. <br>\n",
    "$\\rightarrow$ Under API Section Click on \"Create New Token\". <br>"
   ]
  },
  {
   "cell_type": "markdown",
   "id": "a0967def-2660-4875-9029-1ddd71c0bb4a",
   "metadata": {},
   "source": [
    "This Will generate a token and \"json\" file named \"kaggle.json\" and the file will be downloaded to your system.\n",
    "\n",
    "This file contains your \"username\" and a unique \"key\". Keep it safely, and handy...."
   ]
  },
  {
   "cell_type": "markdown",
   "id": "755626ed-29c2-4336-8c54-897af277e443",
   "metadata": {},
   "source": [
    "### Will use a package name `ipython-secrets` to safeguard the credentials\n",
    "\n",
    "$\\rightarrow$ Install it by this command : `pip install ipython-secrets` <br>\n",
    "Note: Use a `!` before `pip` if you are running this command from notebook cell"
   ]
  },
  {
   "cell_type": "code",
   "execution_count": 2,
   "id": "a07cc500-8bd5-45e6-93c7-70a6268f8096",
   "metadata": {},
   "outputs": [
    {
     "name": "stdout",
     "output_type": "stream",
     "text": [
      "Username has 11 characters\n"
     ]
    }
   ],
   "source": [
    "from ipython_secrets import *\n",
    "\n",
    "username = get_secret('username')\n",
    "print(f\"Username has {len(username)} characters\")\n"
   ]
  },
  {
   "cell_type": "code",
   "execution_count": 3,
   "id": "778da144-5957-4b01-9401-89ffbf408130",
   "metadata": {},
   "outputs": [
    {
     "name": "stdout",
     "output_type": "stream",
     "text": [
      "Key has 32 characters\n"
     ]
    }
   ],
   "source": [
    "key = get_secret('key')\n",
    "print(f\"Key has {len(key)} characters\")"
   ]
  },
  {
   "cell_type": "code",
   "execution_count": 4,
   "id": "39950a77-2661-46a2-a986-5ab8c16c7126",
   "metadata": {},
   "outputs": [],
   "source": [
    "import os\n",
    "\n",
    "os.environ['KAGGLE_USERNAME'] = username\n",
    "os.environ['KAGGLE_KEY'] = key"
   ]
  },
  {
   "cell_type": "markdown",
   "id": "f5427151-408d-414b-a316-245f5bcf5ced",
   "metadata": {},
   "source": [
    "# 2. Download the housing dataset from kaggle using the below api command\n",
    "\n",
    "[Dataset Link](https://www.kaggle.com/datasets/shashanknecrothapa/ames-housing-dataset)\n",
    "\n",
    "The below command will download the dataset in a zip file to the data directory"
   ]
  },
  {
   "cell_type": "code",
   "execution_count": 8,
   "id": "53da6d6a-72bb-4769-b92e-c9ec92a5e797",
   "metadata": {},
   "outputs": [
    {
     "name": "stdout",
     "output_type": "stream",
     "text": [
      "Downloading ames-housing-dataset.zip to /data\n",
      "\n"
     ]
    },
    {
     "name": "stderr",
     "output_type": "stream",
     "text": [
      "\n",
      "  0%|          | 0.00/185k [00:00<?, ?B/s]\n",
      "100%|##########| 185k/185k [00:00<00:00, 228kB/s]\n",
      "100%|##########| 185k/185k [00:00<00:00, 228kB/s]\n"
     ]
    }
   ],
   "source": [
    "!kaggle datasets download -d shashanknecrothapa/ames-housing-dataset -p /data/"
   ]
  },
  {
   "cell_type": "markdown",
   "id": "29ed1c8e-eda9-4216-b3d8-bebbd76c2f57",
   "metadata": {},
   "source": [
    "# 3. Unpack the dataset\n",
    "\n",
    "The below command will unpack the dataset. <br>\n",
    "Note:- I'm running this in windows, I've preinstalled ``7zip``, if you are using Linux or Other Notebook such as (Colab) try ``unzip`` command"
   ]
  },
  {
   "cell_type": "code",
   "execution_count": 13,
   "id": "9452f1df-eded-4d68-affc-1fbc1445fe2e",
   "metadata": {},
   "outputs": [
    {
     "name": "stdout",
     "output_type": "stream",
     "text": [
      "\n",
      "7-Zip 23.01 (x64) : Copyright (c) 1999-2023 Igor Pavlov : 2023-06-20\n",
      "\n",
      "Scanning the drive for archives:\n",
      "1 file, 189065 bytes (185 KiB)\n",
      "\n",
      "Extracting archive: D:\\machine-learning-specialization\\housing-price-prediction\\data\\ames-housing-dataset.zip\n",
      "--\n",
      "Path = D:\\machine-learning-specialization\\housing-price-prediction\\data\\ames-housing-dataset.zip\n",
      "Type = zip\n",
      "Physical Size = 189065\n",
      "\n",
      "Everything is Ok\n",
      "\n",
      "Size:       963738\n",
      "Compressed: 189065\n"
     ]
    }
   ],
   "source": [
    "!7z x \"D:/machine-learning-specialization/housing-price-prediction/data/ames-housing-dataset.zip\" -o\"D:/machine-learning-specialization/housing-price-prediction/data/\""
   ]
  },
  {
   "cell_type": "code",
   "execution_count": null,
   "id": "1a7a7c20-4842-4919-90c0-46475790178b",
   "metadata": {},
   "outputs": [],
   "source": []
  }
 ],
 "metadata": {
  "kernelspec": {
   "display_name": "Python 3 (ipykernel)",
   "language": "python",
   "name": "python3"
  },
  "language_info": {
   "codemirror_mode": {
    "name": "ipython",
    "version": 3
   },
   "file_extension": ".py",
   "mimetype": "text/x-python",
   "name": "python",
   "nbconvert_exporter": "python",
   "pygments_lexer": "ipython3",
   "version": "3.10.13"
  }
 },
 "nbformat": 4,
 "nbformat_minor": 5
}
