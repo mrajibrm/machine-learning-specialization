{
 "cells": [
  {
   "cell_type": "markdown",
   "id": "8aa6bd34-0b55-489c-a182-f05f1fbbf9d7",
   "metadata": {},
   "source": [
    "<a name='1'> </a>\n",
    "\n",
    "# 1. Set up Credentials for downloading data directly from Kaggle\n",
    "\n",
    "- You can have your own credentials by visiting [Kaggle](https://www.kaggle.com/)\n",
    "- Follow the bellow Procedures to generate your own credentials: <br>\n",
    "$\\rightarrow$ Sign Up / Sign In to your Kaggle profile. <br>\n",
    "$\\rightarrow$ Click Your Profile  Avatar.<br>\n",
    "$\\rightarrow$ Click on Settings. <br>\n",
    "$\\rightarrow$ Under API Section Click on \"Create New Token\". <br>"
   ]
  },
  {
   "cell_type": "markdown",
   "id": "a0967def-2660-4875-9029-1ddd71c0bb4a",
   "metadata": {},
   "source": [
    "This Will generate a token and \"json\" file named \"kaggle.json\" file will be downloaded to your system.\n",
    "\n",
    "This file contains your \"username\" and a unique \"key\". Keep it safely, and handy...."
   ]
  },
  {
   "cell_type": "code",
   "execution_count": null,
   "id": "9c248c0d-fcc7-4120-9a02-31e3cbdb1bcd",
   "metadata": {},
   "outputs": [],
   "source": []
  }
 ],
 "metadata": {
  "kernelspec": {
   "display_name": "Python 3 (ipykernel)",
   "language": "python",
   "name": "python3"
  },
  "language_info": {
   "codemirror_mode": {
    "name": "ipython",
    "version": 3
   },
   "file_extension": ".py",
   "mimetype": "text/x-python",
   "name": "python",
   "nbconvert_exporter": "python",
   "pygments_lexer": "ipython3",
   "version": "3.10.13"
  }
 },
 "nbformat": 4,
 "nbformat_minor": 5
}
