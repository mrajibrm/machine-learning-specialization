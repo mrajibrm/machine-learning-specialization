{
 "cells": [
  {
   "cell_type": "markdown",
   "id": "dcf21914-7b41-4000-b20c-5661266c7dc4",
   "metadata": {},
   "source": [
    "###### Notation"
   ]
  },
  {
   "cell_type": "markdown",
   "id": "03bfd213-1c70-4b42-bef6-3ecfbbff514a",
   "metadata": {
    "editable": true,
    "slideshow": {
     "slide_type": ""
    },
    "tags": []
   },
   "source": [
    "| General Notation | Description | Python (if any) |\n",
    "|:-----------------|:------------|:-----------------|\n",
    "| $r(i,j)$         | Scalar; Equals 1 if user j rated movie i, 0 otherwise | |\n",
    "| $y(i,j)$         | Scalar; Rating given by user j on movie i (if $r(i,j) = 1$ is defined) | |\n",
    "| $\\mathbf{w}^{(j)}$ | Vector; Parameters for user j | |\n",
    "| $b^{(j)}$        | Scalar; Parameter for user j | |\n",
    "| $\\mathbf{x}^{(i)}$ | Vector; Feature ratings for movie i | |\n",
    "| $n_u$            | Number of users | `num_users` |\n",
    "| $n_m$            | Number of movies | `num_movies` |\n",
    "| $n$              | Number of features | `num_features` |\n",
    "| $\\mathbf{X}$     | Matrix of vectors $\\mathbf{x}^{(i)}$ | `X` |\n",
    "| $\\mathbf{W}$     | Matrix of vectors $\\mathbf{w}^{(j)}$ | `W` |\n",
    "| $\\mathbf{b}$     | Vector of bias parameters $b^{(j)}$ | `b` |\n",
    "| $\\mathbf{R}$     | Matrix of elements $r(i,j)$ | `R` |\n"
   ]
  },
  {
   "cell_type": "markdown",
   "id": "3772319f-6fc4-4bd0-9c88-4217d6b6b38f",
   "metadata": {},
   "source": [
    "# <img align=\"left\" src=\"./images/movie_camera.png\"     style=\" width:40px;  \" > Collaborative Filtering Recommender Systems"
   ]
  },
  {
   "cell_type": "markdown",
   "id": "48c0e372-5570-4ffc-8946-f57580fc3e98",
   "metadata": {},
   "source": [
    "Below, we need to load the movie dataset into the variables $Y$ and $R$.\n",
    "\n",
    "The matrix $Y$ (a  $n_m \\times n_u$ matrix) stores the ratings $y^{(i,j)}$. The matrix $R$ is an binary-valued indicator matrix, where $R(i,j) = 1$ if user $j$ gave a rating to movie $i$, and $R(i,j)=0$ otherwise. \n",
    "\n",
    "We will also be working with the\n",
    "matrices, $\\mathbf{X}$, $\\mathbf{W}$ and $\\mathbf{b}$: \n",
    "\n",
    "$$\\mathbf{X} = \n",
    "\\begin{bmatrix}\n",
    "--- (\\mathbf{x}^{(0)})^T --- \\\\\n",
    "--- (\\mathbf{x}^{(1)})^T --- \\\\\n",
    "\\vdots \\\\\n",
    "--- (\\mathbf{x}^{(n_m-1)})^T --- \\\\\n",
    "\\end{bmatrix} , \\quad\n",
    "\\mathbf{W} = \n",
    "\\begin{bmatrix}\n",
    "--- (\\mathbf{w}^{(0)})^T --- \\\\\n",
    "--- (\\mathbf{w}^{(1)})^T --- \\\\\n",
    "\\vdots \\\\\n",
    "--- (\\mathbf{w}^{(n_u-1)})^T --- \\\\\n",
    "\\end{bmatrix},\\quad\n",
    "\\mathbf{ b} = \n",
    "\\begin{bmatrix}\n",
    " b^{(0)}  \\\\\n",
    " b^{(1)} \\\\\n",
    "\\vdots \\\\\n",
    "b^{(n_u-1)} \\\\\n",
    "\\end{bmatrix}\\quad\n",
    "$$ \n",
    "\n",
    "The $i$-th row of $\\mathbf{X}$ corresponds to the\n",
    "feature vector $x^{(i)}$ for the $i$-th movie, and the $j$-th row of\n",
    "$\\mathbf{W}$ corresponds to one parameter vector $\\mathbf{w}^{(j)}$, for the\n",
    "$j$-th user. Both $x^{(i)}$ and $\\mathbf{w}^{(j)}$ are $n$-dimensional\n",
    "vectors. For the purposes of this exercise, you will use $n=10$, and\n",
    "therefore, $\\mathbf{x}^{(i)}$ and $\\mathbf{w}^{(j)}$ have 10 elements.\n",
    "Correspondingly, $\\mathbf{X}$ is a\n",
    "$n_m \\times 10$ matrix and $\\mathbf{W}$ is a $n_u \\times 10$ matrix.\n",
    "\n",
    "We will start by loading the movie ratings dataset to understand the structure of the data.\n",
    "We will load $Y$ and $R$ with the movie dataset.  "
   ]
  },
  {
   "cell_type": "markdown",
   "id": "6eb204ed-c956-4d67-bc57-77689d17f86c",
   "metadata": {},
   "source": [
    "##  Packages <img align=\"left\" src=\"./images/python-logo.png\"     style=\" width:40px;   \" > \n",
    "\n"
   ]
  },
  {
   "cell_type": "code",
   "execution_count": 1,
   "id": "cbe0b1c8-fd76-42e2-a8ba-1b8827a4c3c0",
   "metadata": {},
   "outputs": [],
   "source": [
    "import pandas as pd\n",
    "import numpy as np\n",
    "from numpy import loadtxt\n",
    "from tabulate import tabulate\n",
    "import matplotlib.pyplot as plt\n",
    "import seaborn as sns\n"
   ]
  },
  {
   "cell_type": "code",
   "execution_count": 2,
   "id": "95cf8e02-2acc-40aa-812f-c7f22b283659",
   "metadata": {
    "editable": true,
    "slideshow": {
     "slide_type": ""
    },
    "tags": []
   },
   "outputs": [],
   "source": [
    "import warnings\n",
    "\n",
    "# Ignore all future warnings\n",
    "warnings.simplefilter(action='ignore', category=FutureWarning)"
   ]
  },
  {
   "cell_type": "markdown",
   "id": "7da9bf33-55a3-45be-b4ef-088ac30d4e29",
   "metadata": {},
   "source": [
    "### Below cell is optional to extract the dataset archive"
   ]
  },
  {
   "cell_type": "code",
   "execution_count": 4,
   "id": "a057aa65-3c8b-4fa5-bd7b-90fd50b6cb83",
   "metadata": {},
   "outputs": [],
   "source": [
    "# !7z x \"D:/machine-learning-specialization/movie_recomender_system/data/ml-latest-small.zip\"\n"
   ]
  },
  {
   "cell_type": "markdown",
   "id": "a54479eb-8dcc-48f9-bd4b-870f9548e8c0",
   "metadata": {},
   "source": [
    "Load data from csv"
   ]
  },
  {
   "cell_type": "code",
   "execution_count": 3,
   "id": "dd68c630-c7f3-4eb4-b552-c299e463d1d7",
   "metadata": {},
   "outputs": [],
   "source": [
    "data_path = './data/ml-latest-small/'\n",
    "links = pd.read_csv(data_path+'links.csv')\n",
    "movies = pd.read_csv(data_path+'movies.csv')\n",
    "ratings = pd.read_csv(data_path+'ratings.csv')\n",
    "tags = pd.read_csv(data_path+'tags.csv')\n",
    "\n",
    "                   "
   ]
  },
  {
   "cell_type": "markdown",
   "id": "b3db312a-0021-4193-bc9f-47c6cabef28c",
   "metadata": {},
   "source": [
    "**Lets have a view/ exploratory analysis on the DataFrame**"
   ]
  },
  {
   "cell_type": "code",
   "execution_count": 5,
   "id": "37f8b8cd-eb60-46f0-8a2e-967ccd1d5a57",
   "metadata": {},
   "outputs": [],
   "source": [
    "# Optional----> to use these style simply change tablefmt= value with this list-name and one of index no you prefer to get a better view \n",
    "table_format=[\n",
    "    \"plain\",           # 0\n",
    "    \"simple\",          # 1\n",
    "    \"github\",          # 2\n",
    "    \"grid\",            # 3\n",
    "    \"simple_grid\",     # 4\n",
    "    \"rounded_grid\",    # 5\n",
    "    \"heavy_grid\",      # 6\n",
    "    \"mixed_grid\",      # 7\n",
    "    \"double_grid\",     # 8\n",
    "    \"fancy_grid\",      # 9\n",
    "    \"outline\",         # 10\n",
    "    \"simple_outline\",  # 11\n",
    "    \"rounded_outline\", # 12\n",
    "    \"heavy_outline\",   # 13\n",
    "    \"mixed_outline\",   # 14\n",
    "    \"double_outline\",  # 15\n",
    "    \"fancy_outline\",   # 16\n",
    "    \"pipe\",            # 17\n",
    "    \"orgtbl\",          # 18\n",
    "    \"jira\",            # 19\n",
    "    \"presto\",          # 20\n",
    "    \"pretty\",]         # 21     "
   ]
  },
  {
   "cell_type": "markdown",
   "id": "8b12ff76-90ad-4e1b-8093-11a1a94a0494",
   "metadata": {},
   "source": [
    "*Overview of DataFrames:*"
   ]
  },
  {
   "cell_type": "code",
   "execution_count": 5,
   "id": "d5312dc5-0f26-4bc8-8948-d37ea4515e91",
   "metadata": {},
   "outputs": [
    {
     "name": "stdout",
     "output_type": "stream",
     "text": [
      "Tags DataFrame:\n",
      "╭────┬──────────┬───────────┬─────────────────┬─────────────╮\n",
      "│    │   userId │   movieId │ tag             │   timestamp │\n",
      "├────┼──────────┼───────────┼─────────────────┼─────────────┤\n",
      "│  0 │        2 │     60756 │ funny           │  1445714994 │\n",
      "├────┼──────────┼───────────┼─────────────────┼─────────────┤\n",
      "│  1 │        2 │     60756 │ Highly quotable │  1445714996 │\n",
      "├────┼──────────┼───────────┼─────────────────┼─────────────┤\n",
      "│  2 │        2 │     60756 │ will ferrell    │  1445714992 │\n",
      "├────┼──────────┼───────────┼─────────────────┼─────────────┤\n",
      "│  3 │        2 │     89774 │ Boxing story    │  1445715207 │\n",
      "├────┼──────────┼───────────┼─────────────────┼─────────────┤\n",
      "│  4 │        2 │     89774 │ MMA             │  1445715200 │\n",
      "╰────┴──────────┴───────────┴─────────────────┴─────────────╯\n",
      "\n",
      "Ratings DataFrame:\n",
      "╭────┬──────────┬───────────┬──────────┬─────────────╮\n",
      "│    │   userId │   movieId │   rating │   timestamp │\n",
      "├────┼──────────┼───────────┼──────────┼─────────────┤\n",
      "│  0 │        1 │         1 │        4 │ 9.64983e+08 │\n",
      "├────┼──────────┼───────────┼──────────┼─────────────┤\n",
      "│  1 │        1 │         3 │        4 │ 9.64981e+08 │\n",
      "├────┼──────────┼───────────┼──────────┼─────────────┤\n",
      "│  2 │        1 │         6 │        4 │ 9.64982e+08 │\n",
      "├────┼──────────┼───────────┼──────────┼─────────────┤\n",
      "│  3 │        1 │        47 │        5 │ 9.64984e+08 │\n",
      "├────┼──────────┼───────────┼──────────┼─────────────┤\n",
      "│  4 │        1 │        50 │        5 │ 9.64983e+08 │\n",
      "╰────┴──────────┴───────────┴──────────┴─────────────╯\n",
      "\n",
      "Movies DataFrame:\n",
      "╭────┬───────────┬────────────────────────────────────┬─────────────────────────────────────────────╮\n",
      "│    │   movieId │ title                              │ genres                                      │\n",
      "├────┼───────────┼────────────────────────────────────┼─────────────────────────────────────────────┤\n",
      "│  0 │         1 │ Toy Story (1995)                   │ Adventure|Animation|Children|Comedy|Fantasy │\n",
      "├────┼───────────┼────────────────────────────────────┼─────────────────────────────────────────────┤\n",
      "│  1 │         2 │ Jumanji (1995)                     │ Adventure|Children|Fantasy                  │\n",
      "├────┼───────────┼────────────────────────────────────┼─────────────────────────────────────────────┤\n",
      "│  2 │         3 │ Grumpier Old Men (1995)            │ Comedy|Romance                              │\n",
      "├────┼───────────┼────────────────────────────────────┼─────────────────────────────────────────────┤\n",
      "│  3 │         4 │ Waiting to Exhale (1995)           │ Comedy|Drama|Romance                        │\n",
      "├────┼───────────┼────────────────────────────────────┼─────────────────────────────────────────────┤\n",
      "│  4 │         5 │ Father of the Bride Part II (1995) │ Comedy                                      │\n",
      "╰────┴───────────┴────────────────────────────────────┴─────────────────────────────────────────────╯\n",
      "\n",
      "Links DataFrame:\n",
      "╭────┬───────────┬──────────┬──────────╮\n",
      "│    │   movieId │   imdbId │   tmdbId │\n",
      "├────┼───────────┼──────────┼──────────┤\n",
      "│  0 │         1 │   114709 │      862 │\n",
      "├────┼───────────┼──────────┼──────────┤\n",
      "│  1 │         2 │   113497 │     8844 │\n",
      "├────┼───────────┼──────────┼──────────┤\n",
      "│  2 │         3 │   113228 │    15602 │\n",
      "├────┼───────────┼──────────┼──────────┤\n",
      "│  3 │         4 │   114885 │    31357 │\n",
      "├────┼───────────┼──────────┼──────────┤\n",
      "│  4 │         5 │   113041 │    11862 │\n",
      "╰────┴───────────┴──────────┴──────────╯\n"
     ]
    }
   ],
   "source": [
    "print(\"Tags DataFrame:\")\n",
    "print(tabulate(tags.head(), headers='keys', tablefmt='rounded_grid'))\n",
    "\n",
    "print(\"\\nRatings DataFrame:\")\n",
    "print(tabulate(ratings.head(), headers='keys', tablefmt='rounded_grid'))\n",
    "\n",
    "print(\"\\nMovies DataFrame:\")\n",
    "print(tabulate(movies.head(), headers='keys', tablefmt='rounded_grid'))\n",
    "\n",
    "print(\"\\nLinks DataFrame:\")\n",
    "print(tabulate(links.head(), headers='keys', tablefmt='rounded_grid'))\n"
   ]
  },
  {
   "cell_type": "markdown",
   "id": "59910415-6634-4980-a98e-4a56cb105789",
   "metadata": {},
   "source": [
    "**For Collaborative filtering algorithm we don't need the  `links` .**\n",
    "\n",
    "So we will be droping it"
   ]
  },
  {
   "cell_type": "code",
   "execution_count": 6,
   "id": "60a3313b-2939-4163-ab8c-ffa55a31e0a9",
   "metadata": {},
   "outputs": [],
   "source": [
    "del links"
   ]
  },
  {
   "cell_type": "markdown",
   "id": "65160f36-f1a0-4c2b-8b1e-7f5b6b4f99f9",
   "metadata": {},
   "source": [
    "*Concise Summary*"
   ]
  },
  {
   "cell_type": "code",
   "execution_count": 7,
   "id": "9b8a126a-e16a-4e33-af8e-833aec321b23",
   "metadata": {},
   "outputs": [
    {
     "name": "stdout",
     "output_type": "stream",
     "text": [
      "Concise Summary of Tags DataFrame:\n",
      "\n",
      "<class 'pandas.core.frame.DataFrame'>\n",
      "RangeIndex: 3683 entries, 0 to 3682\n",
      "Data columns (total 4 columns):\n",
      " #   Column     Non-Null Count  Dtype \n",
      "---  ------     --------------  ----- \n",
      " 0   userId     3683 non-null   int64 \n",
      " 1   movieId    3683 non-null   int64 \n",
      " 2   tag        3683 non-null   object\n",
      " 3   timestamp  3683 non-null   int64 \n",
      "dtypes: int64(3), object(1)\n",
      "memory usage: 115.2+ KB\n",
      "None\n",
      "\n",
      "\n",
      "Concise Summary of Ratings DataFrame:\n",
      "\n",
      "<class 'pandas.core.frame.DataFrame'>\n",
      "RangeIndex: 100836 entries, 0 to 100835\n",
      "Data columns (total 4 columns):\n",
      " #   Column     Non-Null Count   Dtype  \n",
      "---  ------     --------------   -----  \n",
      " 0   userId     100836 non-null  int64  \n",
      " 1   movieId    100836 non-null  int64  \n",
      " 2   rating     100836 non-null  float64\n",
      " 3   timestamp  100836 non-null  int64  \n",
      "dtypes: float64(1), int64(3)\n",
      "memory usage: 3.1 MB\n",
      "None\n",
      "\n",
      "\n",
      "Concise Summary of Movies DataFrame:\n",
      "\n",
      "<class 'pandas.core.frame.DataFrame'>\n",
      "RangeIndex: 9742 entries, 0 to 9741\n",
      "Data columns (total 3 columns):\n",
      " #   Column   Non-Null Count  Dtype \n",
      "---  ------   --------------  ----- \n",
      " 0   movieId  9742 non-null   int64 \n",
      " 1   title    9742 non-null   object\n",
      " 2   genres   9742 non-null   object\n",
      "dtypes: int64(1), object(2)\n",
      "memory usage: 228.5+ KB\n",
      "None\n"
     ]
    }
   ],
   "source": [
    "print(\"Concise Summary of Tags DataFrame:\\n\")\n",
    "print(tags.info())\n",
    "\n",
    "print(\"\\n\\nConcise Summary of Ratings DataFrame:\\n\")\n",
    "print(ratings.info())\n",
    "\n",
    "print(\"\\n\\nConcise Summary of Movies DataFrame:\\n\")\n",
    "print(movies.info())"
   ]
  },
  {
   "cell_type": "markdown",
   "id": "96977553-f6ab-4813-93fd-96b33a88f4d4",
   "metadata": {},
   "source": [
    "*Summary Statistics:*"
   ]
  },
  {
   "cell_type": "code",
   "execution_count": 8,
   "id": "071d1b0e-f4b3-4424-9b24-efe74253bfdd",
   "metadata": {},
   "outputs": [
    {
     "name": "stdout",
     "output_type": "stream",
     "text": [
      "Summary Statistics for Tags DataFrame:\n",
      "╒═══════╤══════════╤═══════════╤════════════════╕\n",
      "│       │   userId │   movieId │      timestamp │\n",
      "╞═══════╪══════════╪═══════════╪════════════════╡\n",
      "│ count │ 3683     │    3683   │ 3683           │\n",
      "├───────┼──────────┼───────────┼────────────────┤\n",
      "│ mean  │  431.149 │   27252   │    1.32003e+09 │\n",
      "├───────┼──────────┼───────────┼────────────────┤\n",
      "│ std   │  158.473 │   43490.6 │    1.72102e+08 │\n",
      "├───────┼──────────┼───────────┼────────────────┤\n",
      "│ min   │    2     │       1   │    1.13718e+09 │\n",
      "├───────┼──────────┼───────────┼────────────────┤\n",
      "│ 25%   │  424     │    1262.5 │    1.13752e+09 │\n",
      "├───────┼──────────┼───────────┼────────────────┤\n",
      "│ 50%   │  474     │    4454   │    1.26983e+09 │\n",
      "├───────┼──────────┼───────────┼────────────────┤\n",
      "│ 75%   │  477     │   39263   │    1.49846e+09 │\n",
      "├───────┼──────────┼───────────┼────────────────┤\n",
      "│ max   │  610     │  193565   │    1.5371e+09  │\n",
      "╘═══════╧══════════╧═══════════╧════════════════╛\n",
      "\n",
      "Summary Statistics for Ratings DataFrame:\n",
      "╒═══════╤════════════╤═══════════╤══════════════╤══════════════════╕\n",
      "│       │     userId │   movieId │       rating │        timestamp │\n",
      "╞═══════╪════════════╪═══════════╪══════════════╪══════════════════╡\n",
      "│ count │ 100836     │  100836   │ 100836       │ 100836           │\n",
      "├───────┼────────────┼───────────┼──────────────┼──────────────────┤\n",
      "│ mean  │    326.128 │   19435.3 │      3.50156 │      1.20595e+09 │\n",
      "├───────┼────────────┼───────────┼──────────────┼──────────────────┤\n",
      "│ std   │    182.618 │   35531   │      1.04253 │      2.16261e+08 │\n",
      "├───────┼────────────┼───────────┼──────────────┼──────────────────┤\n",
      "│ min   │      1     │       1   │      0.5     │      8.28125e+08 │\n",
      "├───────┼────────────┼───────────┼──────────────┼──────────────────┤\n",
      "│ 25%   │    177     │    1199   │      3       │      1.01912e+09 │\n",
      "├───────┼────────────┼───────────┼──────────────┼──────────────────┤\n",
      "│ 50%   │    325     │    2991   │      3.5     │      1.18609e+09 │\n",
      "├───────┼────────────┼───────────┼──────────────┼──────────────────┤\n",
      "│ 75%   │    477     │    8122   │      4       │      1.43599e+09 │\n",
      "├───────┼────────────┼───────────┼──────────────┼──────────────────┤\n",
      "│ max   │    610     │  193609   │      5       │      1.5378e+09  │\n",
      "╘═══════╧════════════╧═══════════╧══════════════╧══════════════════╛\n",
      "\n",
      "Summary Statistics for Movies DataFrame:\n",
      "╒═══════╤═══════════╕\n",
      "│       │   movieId │\n",
      "╞═══════╪═══════════╡\n",
      "│ count │   9742    │\n",
      "├───────┼───────────┤\n",
      "│ mean  │  42200.4  │\n",
      "├───────┼───────────┤\n",
      "│ std   │  52160.5  │\n",
      "├───────┼───────────┤\n",
      "│ min   │      1    │\n",
      "├───────┼───────────┤\n",
      "│ 25%   │   3248.25 │\n",
      "├───────┼───────────┤\n",
      "│ 50%   │   7300    │\n",
      "├───────┼───────────┤\n",
      "│ 75%   │  76232    │\n",
      "├───────┼───────────┤\n",
      "│ max   │ 193609    │\n",
      "╘═══════╧═══════════╛\n"
     ]
    }
   ],
   "source": [
    "print(\"Summary Statistics for Tags DataFrame:\")\n",
    "print(tabulate(tags.describe(), headers='keys', tablefmt='fancy_grid'))\n",
    "\n",
    "print(\"\\nSummary Statistics for Ratings DataFrame:\")\n",
    "print(tabulate(ratings.describe(), headers='keys', tablefmt='fancy_grid'))\n",
    "\n",
    "print(\"\\nSummary Statistics for Movies DataFrame:\")\n",
    "print(tabulate(movies.describe(), headers='keys', tablefmt='fancy_grid'))"
   ]
  },
  {
   "cell_type": "markdown",
   "id": "3023a087-eabf-4e0f-931c-f7b2fbc734e5",
   "metadata": {},
   "source": [
    "*Check for missing values in each DataFrame.*"
   ]
  },
  {
   "cell_type": "code",
   "execution_count": 9,
   "id": "b12f81c5-4ade-42c6-a8e6-3b7de6034965",
   "metadata": {},
   "outputs": [
    {
     "name": "stdout",
     "output_type": "stream",
     "text": [
      "Missing Values in Tags DataFrame:\n",
      "userId       0\n",
      "movieId      0\n",
      "tag          0\n",
      "timestamp    0\n",
      "dtype: int64\n",
      "\n",
      "Missing Values in Ratings DataFrame:\n",
      "userId       0\n",
      "movieId      0\n",
      "rating       0\n",
      "timestamp    0\n",
      "dtype: int64\n",
      "\n",
      "Missing Values in Movies DataFrame:\n",
      "movieId    0\n",
      "title      0\n",
      "genres     0\n",
      "dtype: int64\n"
     ]
    }
   ],
   "source": [
    "print(\"Missing Values in Tags DataFrame:\")\n",
    "print(tags.isnull().sum())\n",
    "\n",
    "print(\"\\nMissing Values in Ratings DataFrame:\")\n",
    "print(ratings.isnull().sum())\n",
    "\n",
    "print(\"\\nMissing Values in Movies DataFrame:\")\n",
    "print(movies.isnull().sum())\n"
   ]
  },
  {
   "cell_type": "markdown",
   "id": "8386eedb-1794-44c1-b91f-708c45c7bd31",
   "metadata": {},
   "source": [
    "As it's a cleaned dataset, that's why there are no null value which is good."
   ]
  },
  {
   "cell_type": "code",
   "execution_count": 11,
   "id": "2656fd08-a41f-49a6-86be-65fdee254573",
   "metadata": {
    "jupyter": {
     "source_hidden": true
    }
   },
   "outputs": [
    {
     "name": "stdout",
     "output_type": "stream",
     "text": [
      "Total number of available plotting styles: 28\n",
      "\n",
      "['Solarize_Light2', '_classic_test_patch', '_mpl-gallery', '_mpl-gallery-nogrid', 'bmh', 'classic', 'dark_background', 'fast', 'fivethirtyeight', 'ggplot', 'grayscale', 'seaborn-v0_8', 'seaborn-v0_8-bright', 'seaborn-v0_8-colorblind', 'seaborn-v0_8-dark', 'seaborn-v0_8-dark-palette', 'seaborn-v0_8-darkgrid', 'seaborn-v0_8-deep', 'seaborn-v0_8-muted', 'seaborn-v0_8-notebook', 'seaborn-v0_8-paper', 'seaborn-v0_8-pastel', 'seaborn-v0_8-poster', 'seaborn-v0_8-talk', 'seaborn-v0_8-ticks', 'seaborn-v0_8-white', 'seaborn-v0_8-whitegrid', 'tableau-colorblind10']\n"
     ]
    }
   ],
   "source": [
    "# Optional--> To check how many plotting style available\n",
    "\n",
    "styles = plt.style.available\n",
    "print(f\"Total number of available plotting styles: {len(styles)}\")\n",
    "print(f\"\\n{styles}\")\n"
   ]
  },
  {
   "cell_type": "markdown",
   "id": "ce49afdb-cd6f-4fd6-997c-9e626cb73742",
   "metadata": {
    "jp-MarkdownHeadingCollapsed": true
   },
   "source": [
    "### Data Visualization:"
   ]
  },
  {
   "cell_type": "code",
   "execution_count": null,
   "id": "5a85fe52-9b6c-4446-9bb3-d80da80636fa",
   "metadata": {},
   "outputs": [],
   "source": []
  },
  {
   "cell_type": "markdown",
   "id": "2947e888-6987-4952-a14e-a94c0003797a",
   "metadata": {},
   "source": [
    "*Count plot of movie genres*"
   ]
  },
  {
   "cell_type": "code",
   "execution_count": 12,
   "id": "023d6f21-3ec8-4a16-b39c-56c083c336ff",
   "metadata": {},
   "outputs": [
    {
     "data": {
      "text/html": [
       "<div>\n",
       "<style scoped>\n",
       "    .dataframe tbody tr th:only-of-type {\n",
       "        vertical-align: middle;\n",
       "    }\n",
       "\n",
       "    .dataframe tbody tr th {\n",
       "        vertical-align: top;\n",
       "    }\n",
       "\n",
       "    .dataframe thead th {\n",
       "        text-align: right;\n",
       "    }\n",
       "</style>\n",
       "<table border=\"1\" class=\"dataframe\">\n",
       "  <thead>\n",
       "    <tr style=\"text-align: right;\">\n",
       "      <th></th>\n",
       "      <th>movieId</th>\n",
       "      <th>title</th>\n",
       "      <th>genres</th>\n",
       "    </tr>\n",
       "  </thead>\n",
       "  <tbody>\n",
       "    <tr>\n",
       "      <th>0</th>\n",
       "      <td>1</td>\n",
       "      <td>Toy Story (1995)</td>\n",
       "      <td>Adventure|Animation|Children|Comedy|Fantasy</td>\n",
       "    </tr>\n",
       "    <tr>\n",
       "      <th>1</th>\n",
       "      <td>2</td>\n",
       "      <td>Jumanji (1995)</td>\n",
       "      <td>Adventure|Children|Fantasy</td>\n",
       "    </tr>\n",
       "    <tr>\n",
       "      <th>2</th>\n",
       "      <td>3</td>\n",
       "      <td>Grumpier Old Men (1995)</td>\n",
       "      <td>Comedy|Romance</td>\n",
       "    </tr>\n",
       "    <tr>\n",
       "      <th>3</th>\n",
       "      <td>4</td>\n",
       "      <td>Waiting to Exhale (1995)</td>\n",
       "      <td>Comedy|Drama|Romance</td>\n",
       "    </tr>\n",
       "    <tr>\n",
       "      <th>4</th>\n",
       "      <td>5</td>\n",
       "      <td>Father of the Bride Part II (1995)</td>\n",
       "      <td>Comedy</td>\n",
       "    </tr>\n",
       "  </tbody>\n",
       "</table>\n",
       "</div>"
      ],
      "text/plain": [
       "   movieId                               title  \\\n",
       "0        1                    Toy Story (1995)   \n",
       "1        2                      Jumanji (1995)   \n",
       "2        3             Grumpier Old Men (1995)   \n",
       "3        4            Waiting to Exhale (1995)   \n",
       "4        5  Father of the Bride Part II (1995)   \n",
       "\n",
       "                                        genres  \n",
       "0  Adventure|Animation|Children|Comedy|Fantasy  \n",
       "1                   Adventure|Children|Fantasy  \n",
       "2                               Comedy|Romance  \n",
       "3                         Comedy|Drama|Romance  \n",
       "4                                       Comedy  "
      ]
     },
     "execution_count": 12,
     "metadata": {},
     "output_type": "execute_result"
    }
   ],
   "source": [
    "movies.head()"
   ]
  },
  {
   "cell_type": "markdown",
   "id": "19ba631b-6e19-4338-8ea1-3008ba012d74",
   "metadata": {},
   "source": [
    "Extract all genres information by creating a DataFrame with `explode()` method"
   ]
  },
  {
   "cell_type": "code",
   "execution_count": 13,
   "id": "51714446-ec49-4a1d-a2ac-3f9734414ab8",
   "metadata": {},
   "outputs": [
    {
     "data": {
      "text/html": [
       "<div>\n",
       "<style scoped>\n",
       "    .dataframe tbody tr th:only-of-type {\n",
       "        vertical-align: middle;\n",
       "    }\n",
       "\n",
       "    .dataframe tbody tr th {\n",
       "        vertical-align: top;\n",
       "    }\n",
       "\n",
       "    .dataframe thead th {\n",
       "        text-align: right;\n",
       "    }\n",
       "</style>\n",
       "<table border=\"1\" class=\"dataframe\">\n",
       "  <thead>\n",
       "    <tr style=\"text-align: right;\">\n",
       "      <th></th>\n",
       "      <th>movieId</th>\n",
       "      <th>title</th>\n",
       "      <th>genres</th>\n",
       "    </tr>\n",
       "  </thead>\n",
       "  <tbody>\n",
       "    <tr>\n",
       "      <th>0</th>\n",
       "      <td>1</td>\n",
       "      <td>Toy Story (1995)</td>\n",
       "      <td>Adventure</td>\n",
       "    </tr>\n",
       "    <tr>\n",
       "      <th>0</th>\n",
       "      <td>1</td>\n",
       "      <td>Toy Story (1995)</td>\n",
       "      <td>Animation</td>\n",
       "    </tr>\n",
       "    <tr>\n",
       "      <th>0</th>\n",
       "      <td>1</td>\n",
       "      <td>Toy Story (1995)</td>\n",
       "      <td>Children</td>\n",
       "    </tr>\n",
       "    <tr>\n",
       "      <th>0</th>\n",
       "      <td>1</td>\n",
       "      <td>Toy Story (1995)</td>\n",
       "      <td>Comedy</td>\n",
       "    </tr>\n",
       "    <tr>\n",
       "      <th>0</th>\n",
       "      <td>1</td>\n",
       "      <td>Toy Story (1995)</td>\n",
       "      <td>Fantasy</td>\n",
       "    </tr>\n",
       "  </tbody>\n",
       "</table>\n",
       "</div>"
      ],
      "text/plain": [
       "   movieId             title     genres\n",
       "0        1  Toy Story (1995)  Adventure\n",
       "0        1  Toy Story (1995)  Animation\n",
       "0        1  Toy Story (1995)   Children\n",
       "0        1  Toy Story (1995)     Comedy\n",
       "0        1  Toy Story (1995)    Fantasy"
      ]
     },
     "execution_count": 13,
     "metadata": {},
     "output_type": "execute_result"
    }
   ],
   "source": [
    "# Split the genres column into a list of genres\n",
    "df_genres = movies\n",
    "df_genres['genres'] = df_genres['genres'].str.split('|')\n",
    "\n",
    "df_genres = df_genres.explode('genres')\n",
    "df_genres.head()"
   ]
  },
  {
   "cell_type": "code",
   "execution_count": null,
   "id": "4d7d3ff1-5d49-47a6-962b-41e757d364e4",
   "metadata": {},
   "outputs": [],
   "source": []
  },
  {
   "cell_type": "code",
   "execution_count": 14,
   "id": "117223ce-a794-4081-9941-eaa4844a17f5",
   "metadata": {},
   "outputs": [
    {
     "data": {
      "image/png": "[encoded data removed]",
      "text/plain": [
       "<Figure size 1200x600 with 1 Axes>"
      ]
     },
     "metadata": {},
     "output_type": "display_data"
    }
   ],
   "source": [
    "# Create count plot\n",
    "plt.figure(figsize=(12,6))\n",
    "sns.countplot(x='genres', data=df_genres, palette='plasma', hue='genres' )\n",
    "\n",
    "# Add labels to the plot\n",
    "plt.xlabel('Genres')\n",
    "plt.ylabel('Count')\n",
    "plt.title('Count plot of movie Genre')\n",
    "\n",
    "# Rotate X-Axis labels for readability\n",
    "plt.xticks(rotation=45, ha='right')\n",
    "plt.show()"
   ]
  },
  {
   "cell_type": "markdown",
   "id": "bcb49c59-464d-4f56-b62c-314f3ec64359",
   "metadata": {},
   "source": [
    "*Histogram of Ratings*"
   ]
  },
  {
   "cell_type": "code",
   "execution_count": 15,
   "id": "8a0d99b0-a985-435d-b199-7ea39f640c40",
   "metadata": {
    "scrolled": true
   },
   "outputs": [
    {
     "data": {
      "image/png": "[encoded data removed]",
      "text/plain": [
       "<Figure size 640x480 with 1 Axes>"
      ]
     },
     "metadata": {},
     "output_type": "display_data"
    }
   ],
   "source": [
    "plt.hist(ratings['rating'], bins='sturges',color='royalblue', edgecolor='crimson')\n",
    "\n",
    "plt.title('Distribution of Ratings')\n",
    "plt.xlabel('Rating')\n",
    "plt.ylabel('Frequency')\n",
    "\n",
    "plt.show()"
   ]
  },
  {
   "cell_type": "markdown",
   "id": "92a9289a-6d21-421f-900a-f71bc0eda7db",
   "metadata": {},
   "source": [
    "*BoxPlot*\n",
    "\n",
    "Distribution of ratings for each movie genre"
   ]
  },
  {
   "cell_type": "code",
   "execution_count": 16,
   "id": "db2cd411-2a17-4d0a-9c4b-a83969036285",
   "metadata": {},
   "outputs": [
    {
     "data": {
      "text/html": [
       "<div>\n",
       "<style scoped>\n",
       "    .dataframe tbody tr th:only-of-type {\n",
       "        vertical-align: middle;\n",
       "    }\n",
       "\n",
       "    .dataframe tbody tr th {\n",
       "        vertical-align: top;\n",
       "    }\n",
       "\n",
       "    .dataframe thead th {\n",
       "        text-align: right;\n",
       "    }\n",
       "</style>\n",
       "<table border=\"1\" class=\"dataframe\">\n",
       "  <thead>\n",
       "    <tr style=\"text-align: right;\">\n",
       "      <th></th>\n",
       "      <th>movieId</th>\n",
       "      <th>title</th>\n",
       "      <th>genres</th>\n",
       "      <th>userId</th>\n",
       "      <th>rating</th>\n",
       "      <th>timestamp</th>\n",
       "    </tr>\n",
       "  </thead>\n",
       "  <tbody>\n",
       "    <tr>\n",
       "      <th>0</th>\n",
       "      <td>1</td>\n",
       "      <td>Toy Story (1995)</td>\n",
       "      <td>Adventure</td>\n",
       "      <td>1</td>\n",
       "      <td>4.0</td>\n",
       "      <td>964982703</td>\n",
       "    </tr>\n",
       "    <tr>\n",
       "      <th>1</th>\n",
       "      <td>1</td>\n",
       "      <td>Toy Story (1995)</td>\n",
       "      <td>Adventure</td>\n",
       "      <td>5</td>\n",
       "      <td>4.0</td>\n",
       "      <td>847434962</td>\n",
       "    </tr>\n",
       "    <tr>\n",
       "      <th>2</th>\n",
       "      <td>1</td>\n",
       "      <td>Toy Story (1995)</td>\n",
       "      <td>Adventure</td>\n",
       "      <td>7</td>\n",
       "      <td>4.5</td>\n",
       "      <td>1106635946</td>\n",
       "    </tr>\n",
       "    <tr>\n",
       "      <th>3</th>\n",
       "      <td>1</td>\n",
       "      <td>Toy Story (1995)</td>\n",
       "      <td>Adventure</td>\n",
       "      <td>15</td>\n",
       "      <td>2.5</td>\n",
       "      <td>1510577970</td>\n",
       "    </tr>\n",
       "    <tr>\n",
       "      <th>4</th>\n",
       "      <td>1</td>\n",
       "      <td>Toy Story (1995)</td>\n",
       "      <td>Adventure</td>\n",
       "      <td>17</td>\n",
       "      <td>4.5</td>\n",
       "      <td>1305696483</td>\n",
       "    </tr>\n",
       "  </tbody>\n",
       "</table>\n",
       "</div>"
      ],
      "text/plain": [
       "   movieId             title     genres  userId  rating   timestamp\n",
       "0        1  Toy Story (1995)  Adventure       1     4.0   964982703\n",
       "1        1  Toy Story (1995)  Adventure       5     4.0   847434962\n",
       "2        1  Toy Story (1995)  Adventure       7     4.5  1106635946\n",
       "3        1  Toy Story (1995)  Adventure      15     2.5  1510577970\n",
       "4        1  Toy Story (1995)  Adventure      17     4.5  1305696483"
      ]
     },
     "execution_count": 16,
     "metadata": {},
     "output_type": "execute_result"
    }
   ],
   "source": [
    "merged_data = pd.merge(df_genres,ratings, on='movieId')\n",
    "merged_data.head()"
   ]
  },
  {
   "cell_type": "code",
   "execution_count": 17,
   "id": "d3afeb02-17e2-4761-8800-cbb1ee1a646d",
   "metadata": {},
   "outputs": [
    {
     "data": {
      "image/png": "[encoded data removed]",
      "text/plain": [
       "<Figure size 1400x800 with 1 Axes>"
      ]
     },
     "metadata": {},
     "output_type": "display_data"
    }
   ],
   "source": [
    "plt.figure(figsize=(14,8))\n",
    "sns.boxenplot(x='genres', y='rating', data=merged_data,palette='viridis',hue='genres', order=merged_data['genres'].value_counts().index)\n",
    "\n",
    "plt.title('Box Plot of Ratings for each Movie Genre')\n",
    "plt.xlabel('Genres')\n",
    "plt.ylabel('ratings')\n",
    "plt.xticks(rotation=45, ha='right')\n",
    "\n",
    "plt.show()"
   ]
  },
  {
   "cell_type": "code",
   "execution_count": null,
   "id": "dbcc5985-4908-4024-a726-40b6ac629bd5",
   "metadata": {},
   "outputs": [],
   "source": []
  },
  {
   "cell_type": "code",
   "execution_count": 18,
   "id": "f8078565-3b0e-4beb-9408-66f5405a1d14",
   "metadata": {},
   "outputs": [
    {
     "data": {
      "image/png": "[encoded data removed]",
      "text/plain": [
       "<Figure size 800x600 with 2 Axes>"
      ]
     },
     "metadata": {},
     "output_type": "display_data"
    }
   ],
   "source": [
    "plt.figure(figsize=(8,6))\n",
    "\n",
    "sns.heatmap(ratings.corr(), annot=True, cmap='coolwarm', linewidths=0.5)\n",
    "\n",
    "plt.title('Correlation Heat map for Ratings DataFrame')\n",
    "plt.show()"
   ]
  },
  {
   "cell_type": "code",
   "execution_count": null,
   "id": "2aa2428c-aa0c-4899-b461-cab046c5eecb",
   "metadata": {},
   "outputs": [],
   "source": []
  },
  {
   "cell_type": "code",
   "execution_count": null,
   "id": "1ac324e2-4b89-4579-8999-aeb2f2e2ee05",
   "metadata": {},
   "outputs": [],
   "source": []
  },
  {
   "cell_type": "markdown",
   "id": "7003b4e0-425c-4a4b-b173-33a49870184c",
   "metadata": {},
   "source": [
    "## **Let's Do some Data Engineering to load and preprocess the data set** <img align=\"left\" src=\"./images/data-engineering.png\"     style=\" width:40px;  \" >"
   ]
  },
  {
   "cell_type": "markdown",
   "id": "74c756da-78f5-4f26-bf2b-003c331bf376",
   "metadata": {},
   "source": [
    "#### Create a Dataframe for movie list and their ratings"
   ]
  },
  {
   "cell_type": "code",
   "execution_count": 4,
   "id": "8b2701d8-f5dd-48ae-b599-e24b848ada75",
   "metadata": {},
   "outputs": [
    {
     "name": "stdout",
     "output_type": "stream",
     "text": [
      "Unique movieId values in ratings: 9724\n",
      "Unique movieId values in movies: 9742\n"
     ]
    }
   ],
   "source": [
    "print(\"Unique movieId values in ratings:\", ratings['movieId'].nunique())\n",
    "print(\"Unique movieId values in movies:\", movies['movieId'].nunique())\n"
   ]
  },
  {
   "cell_type": "code",
   "execution_count": 5,
   "id": "24f7f723-6597-4dfc-9816-55437d085b6b",
   "metadata": {},
   "outputs": [
    {
     "name": "stdout",
     "output_type": "stream",
     "text": [
      "Movie IDs in movies dataframe without ratings: {3456, 6849, 4194, 85565, 32160, 26085, 3338, 6668, 7020, 30892, 7792, 34482, 32371, 1076, 5721, 2939, 8765, 25855}\n"
     ]
    }
   ],
   "source": [
    "missing_movie_ids = set(movies['movieId']) - set(ratings['movieId'])\n",
    "print(\"Movie IDs in movies dataframe without ratings:\", missing_movie_ids)\n"
   ]
  },
  {
   "cell_type": "code",
   "execution_count": 6,
   "id": "25824fc4-6b1b-4650-a83b-0d0add542020",
   "metadata": {},
   "outputs": [
    {
     "name": "stdout",
     "output_type": "stream",
     "text": [
      "Total 18 movies has no rating from the ratings Dataframe \n",
      "MovieId 1076: ['Innocents, The (1961)']\n",
      "MovieId 2939: ['Niagara (1953)']\n",
      "MovieId 3338: ['For All Mankind (1989)']\n",
      "MovieId 3456: ['Color of Paradise, The (Rang-e khoda) (1999)']\n",
      "MovieId 4194: [\"I Know Where I'm Going! (1945)\"]\n",
      "MovieId 5721: ['Chosen, The (1981)']\n",
      "MovieId 6668: ['Road Home, The (Wo de fu qin mu qin) (1999)']\n",
      "MovieId 6849: ['Scrooge (1970)']\n",
      "MovieId 7020: ['Proof (1991)']\n",
      "MovieId 7792: ['Parallax View, The (1974)']\n",
      "MovieId 8765: ['This Gun for Hire (1942)']\n",
      "MovieId 25855: ['Roaring Twenties, The (1939)']\n",
      "MovieId 26085: ['Mutiny on the Bounty (1962)']\n",
      "MovieId 30892: ['In the Realms of the Unreal (2004)']\n",
      "MovieId 32160: ['Twentieth Century (1934)']\n",
      "MovieId 32371: ['Call Northside 777 (1948)']\n",
      "MovieId 34482: ['Browning Version, The (1951)']\n",
      "MovieId 85565: ['Chalet Girl (2011)']\n"
     ]
    }
   ],
   "source": [
    "\n",
    "print(f\"Total {len(missing_movie_ids)} movies has no rating from the ratings Dataframe \")\n",
    "for i in sorted(missing_movie_ids):\n",
    "    movie_name = movies.loc[movies['movieId'] == i, 'title'].values\n",
    "    print(f\"MovieId {i}: {movie_name}\")"
   ]
  },
  {
   "cell_type": "markdown",
   "id": "2d39ba76-c5ea-47e7-b9b9-f6299f8f3f83",
   "metadata": {},
   "source": [
    "Lets drop these missing movies in ratings dataframe as these are no longer use for collaborative filtering algorithm"
   ]
  },
  {
   "cell_type": "code",
   "execution_count": 7,
   "id": "ecf2956b-5102-4b2e-b1dd-df34ac49b943",
   "metadata": {},
   "outputs": [
    {
     "data": {
      "text/plain": [
       "(9724, 3)"
      ]
     },
     "execution_count": 7,
     "metadata": {},
     "output_type": "execute_result"
    }
   ],
   "source": [
    "movie_id_to_drop = list(missing_movie_ids)\n",
    "\n",
    "filtered_movies =pd.DataFrame(movies.loc[~movies['movieId'].isin(movie_id_to_drop)])\n",
    "filtered_movies.shape"
   ]
  },
  {
   "cell_type": "code",
   "execution_count": null,
   "id": "23291c2c-8d43-4f37-b5c6-ef76b72d833b",
   "metadata": {},
   "outputs": [],
   "source": []
  },
  {
   "cell_type": "code",
   "execution_count": null,
   "id": "274725dd-0aed-46c5-8de8-36321d69a922",
   "metadata": {},
   "outputs": [],
   "source": []
  },
  {
   "cell_type": "code",
   "execution_count": 8,
   "id": "4b7f66fa-b389-4645-9be8-6ad7057297d0",
   "metadata": {},
   "outputs": [
    {
     "name": "stdout",
     "output_type": "stream",
     "text": [
      "Total number of movies:9724\n",
      "Shape of MovieList DataFrame:(9724, 4)\n"
     ]
    }
   ],
   "source": [
    "# Calculate mean rating and number of ratings per movie\n",
    "movie_stats = ratings.groupby('movieId')['rating'].agg(['mean', 'count']).reset_index()\n",
    "\n",
    "# Merge with movie DataFrame to get the titles\n",
    "movie_list_df = pd.merge(movie_stats, filtered_movies[['movieId', 'title']], on='movieId')\n",
    "# movie_list = movie_list.rename(columns={'mean':'mean_rating', 'count': 'number_of_ratings'})\n",
    "movieList = movie_list_df['title'].to_list()\n",
    "print(f\"Total number of movies:{len(movieList)}\")\n",
    "print(f\"Shape of MovieList DataFrame:{movie_list_df.shape}\")\n",
    "\n",
    "# Save the Dataframe for future use\n",
    "file_path = './data/processed/'\n",
    "file_name = 'movie_list_df.csv'\n",
    "movie_list_df.to_csv((file_path+file_name))"
   ]
  },
  {
   "cell_type": "markdown",
   "id": "c04a9069-4c67-460a-898f-7cd255d696e6",
   "metadata": {},
   "source": [
    "### Create a rating matrix R\n",
    "\n",
    "#### Merge the DataFrames to get a unified view"
   ]
  },
  {
   "cell_type": "code",
   "execution_count": 9,
   "id": "6935211a-5bea-4d56-8e5b-5fc11c82b309",
   "metadata": {},
   "outputs": [
    {
     "name": "stdout",
     "output_type": "stream",
     "text": [
      "After merging ratings and movies: (100836, 6)\n",
      "After merging tags: (102677, 8)\n"
     ]
    }
   ],
   "source": [
    "movie_data = pd.merge(ratings, filtered_movies, on='movieId')\n",
    "print(\"After merging ratings and movies:\", movie_data.shape)\n",
    "\n",
    "movie_data = pd.merge(movie_data, tags, on=['userId', 'movieId'], how='left')\n",
    "print(\"After merging tags:\", movie_data.shape)\n"
   ]
  },
  {
   "cell_type": "markdown",
   "id": "6233f310-3ebc-4ffd-ac2f-df321de8877c",
   "metadata": {},
   "source": [
    "### Create a rating matrix R\n",
    "\n",
    "The matrix $R$ is an binary-valued indicator matrix, where $R(i,j) = 1$ if user $j$ gave a rating to movie $i$, and $R(i,j)=0$ otherwise. "
   ]
  },
  {
   "cell_type": "code",
   "execution_count": 10,
   "id": "ca6f8e52-9a1d-41e5-acff-a461375903da",
   "metadata": {},
   "outputs": [
    {
     "data": {
      "text/plain": [
       "(9724, 610)"
      ]
     },
     "execution_count": 10,
     "metadata": {},
     "output_type": "execute_result"
    }
   ],
   "source": [
    "R = pd.pivot_table(movie_data, values='rating', index='movieId', columns='userId', fill_value=0)\n",
    "R = R.applymap(lambda x: 1 if x > 0 else 0)\n",
    "R.shape\n",
    "# R.head()"
   ]
  },
  {
   "cell_type": "code",
   "execution_count": 19,
   "id": "9d7a2e95-c275-4cef-970a-38c882affd4f",
   "metadata": {},
   "outputs": [
    {
     "data": {
      "text/html": [
       "<div>\n",
       "<style scoped>\n",
       "    .dataframe tbody tr th:only-of-type {\n",
       "        vertical-align: middle;\n",
       "    }\n",
       "\n",
       "    .dataframe tbody tr th {\n",
       "        vertical-align: top;\n",
       "    }\n",
       "\n",
       "    .dataframe thead th {\n",
       "        text-align: right;\n",
       "    }\n",
       "</style>\n",
       "<table border=\"1\" class=\"dataframe\">\n",
       "  <thead>\n",
       "    <tr style=\"text-align: right;\">\n",
       "      <th>userId</th>\n",
       "      <th>1</th>\n",
       "      <th>2</th>\n",
       "      <th>3</th>\n",
       "      <th>4</th>\n",
       "      <th>5</th>\n",
       "      <th>6</th>\n",
       "      <th>7</th>\n",
       "      <th>8</th>\n",
       "      <th>9</th>\n",
       "      <th>10</th>\n",
       "      <th>...</th>\n",
       "      <th>601</th>\n",
       "      <th>602</th>\n",
       "      <th>603</th>\n",
       "      <th>604</th>\n",
       "      <th>605</th>\n",
       "      <th>606</th>\n",
       "      <th>607</th>\n",
       "      <th>608</th>\n",
       "      <th>609</th>\n",
       "      <th>610</th>\n",
       "    </tr>\n",
       "    <tr>\n",
       "      <th>movieId</th>\n",
       "      <th></th>\n",
       "      <th></th>\n",
       "      <th></th>\n",
       "      <th></th>\n",
       "      <th></th>\n",
       "      <th></th>\n",
       "      <th></th>\n",
       "      <th></th>\n",
       "      <th></th>\n",
       "      <th></th>\n",
       "      <th></th>\n",
       "      <th></th>\n",
       "      <th></th>\n",
       "      <th></th>\n",
       "      <th></th>\n",
       "      <th></th>\n",
       "      <th></th>\n",
       "      <th></th>\n",
       "      <th></th>\n",
       "      <th></th>\n",
       "      <th></th>\n",
       "    </tr>\n",
       "  </thead>\n",
       "  <tbody>\n",
       "    <tr>\n",
       "      <th>1</th>\n",
       "      <td>1</td>\n",
       "      <td>0</td>\n",
       "      <td>0</td>\n",
       "      <td>0</td>\n",
       "      <td>1</td>\n",
       "      <td>0</td>\n",
       "      <td>1</td>\n",
       "      <td>0</td>\n",
       "      <td>0</td>\n",
       "      <td>0</td>\n",
       "      <td>...</td>\n",
       "      <td>1</td>\n",
       "      <td>0</td>\n",
       "      <td>1</td>\n",
       "      <td>1</td>\n",
       "      <td>1</td>\n",
       "      <td>1</td>\n",
       "      <td>1</td>\n",
       "      <td>1</td>\n",
       "      <td>1</td>\n",
       "      <td>1</td>\n",
       "    </tr>\n",
       "    <tr>\n",
       "      <th>2</th>\n",
       "      <td>0</td>\n",
       "      <td>0</td>\n",
       "      <td>0</td>\n",
       "      <td>0</td>\n",
       "      <td>0</td>\n",
       "      <td>1</td>\n",
       "      <td>0</td>\n",
       "      <td>1</td>\n",
       "      <td>0</td>\n",
       "      <td>0</td>\n",
       "      <td>...</td>\n",
       "      <td>0</td>\n",
       "      <td>1</td>\n",
       "      <td>0</td>\n",
       "      <td>1</td>\n",
       "      <td>1</td>\n",
       "      <td>0</td>\n",
       "      <td>0</td>\n",
       "      <td>1</td>\n",
       "      <td>0</td>\n",
       "      <td>0</td>\n",
       "    </tr>\n",
       "    <tr>\n",
       "      <th>3</th>\n",
       "      <td>1</td>\n",
       "      <td>0</td>\n",
       "      <td>0</td>\n",
       "      <td>0</td>\n",
       "      <td>0</td>\n",
       "      <td>1</td>\n",
       "      <td>0</td>\n",
       "      <td>0</td>\n",
       "      <td>0</td>\n",
       "      <td>0</td>\n",
       "      <td>...</td>\n",
       "      <td>0</td>\n",
       "      <td>0</td>\n",
       "      <td>0</td>\n",
       "      <td>0</td>\n",
       "      <td>0</td>\n",
       "      <td>0</td>\n",
       "      <td>0</td>\n",
       "      <td>1</td>\n",
       "      <td>0</td>\n",
       "      <td>0</td>\n",
       "    </tr>\n",
       "    <tr>\n",
       "      <th>4</th>\n",
       "      <td>0</td>\n",
       "      <td>0</td>\n",
       "      <td>0</td>\n",
       "      <td>0</td>\n",
       "      <td>0</td>\n",
       "      <td>1</td>\n",
       "      <td>0</td>\n",
       "      <td>0</td>\n",
       "      <td>0</td>\n",
       "      <td>0</td>\n",
       "      <td>...</td>\n",
       "      <td>0</td>\n",
       "      <td>0</td>\n",
       "      <td>0</td>\n",
       "      <td>0</td>\n",
       "      <td>0</td>\n",
       "      <td>0</td>\n",
       "      <td>0</td>\n",
       "      <td>0</td>\n",
       "      <td>0</td>\n",
       "      <td>0</td>\n",
       "    </tr>\n",
       "    <tr>\n",
       "      <th>5</th>\n",
       "      <td>0</td>\n",
       "      <td>0</td>\n",
       "      <td>0</td>\n",
       "      <td>0</td>\n",
       "      <td>0</td>\n",
       "      <td>1</td>\n",
       "      <td>0</td>\n",
       "      <td>0</td>\n",
       "      <td>0</td>\n",
       "      <td>0</td>\n",
       "      <td>...</td>\n",
       "      <td>0</td>\n",
       "      <td>0</td>\n",
       "      <td>0</td>\n",
       "      <td>1</td>\n",
       "      <td>0</td>\n",
       "      <td>0</td>\n",
       "      <td>0</td>\n",
       "      <td>0</td>\n",
       "      <td>0</td>\n",
       "      <td>0</td>\n",
       "    </tr>\n",
       "    <tr>\n",
       "      <th>6</th>\n",
       "      <td>1</td>\n",
       "      <td>0</td>\n",
       "      <td>0</td>\n",
       "      <td>0</td>\n",
       "      <td>0</td>\n",
       "      <td>1</td>\n",
       "      <td>0</td>\n",
       "      <td>0</td>\n",
       "      <td>0</td>\n",
       "      <td>0</td>\n",
       "      <td>...</td>\n",
       "      <td>0</td>\n",
       "      <td>1</td>\n",
       "      <td>1</td>\n",
       "      <td>1</td>\n",
       "      <td>0</td>\n",
       "      <td>0</td>\n",
       "      <td>0</td>\n",
       "      <td>0</td>\n",
       "      <td>0</td>\n",
       "      <td>1</td>\n",
       "    </tr>\n",
       "    <tr>\n",
       "      <th>7</th>\n",
       "      <td>0</td>\n",
       "      <td>0</td>\n",
       "      <td>0</td>\n",
       "      <td>0</td>\n",
       "      <td>0</td>\n",
       "      <td>1</td>\n",
       "      <td>0</td>\n",
       "      <td>0</td>\n",
       "      <td>0</td>\n",
       "      <td>0</td>\n",
       "      <td>...</td>\n",
       "      <td>0</td>\n",
       "      <td>0</td>\n",
       "      <td>0</td>\n",
       "      <td>0</td>\n",
       "      <td>0</td>\n",
       "      <td>1</td>\n",
       "      <td>0</td>\n",
       "      <td>0</td>\n",
       "      <td>0</td>\n",
       "      <td>0</td>\n",
       "    </tr>\n",
       "    <tr>\n",
       "      <th>8</th>\n",
       "      <td>0</td>\n",
       "      <td>0</td>\n",
       "      <td>0</td>\n",
       "      <td>0</td>\n",
       "      <td>0</td>\n",
       "      <td>1</td>\n",
       "      <td>0</td>\n",
       "      <td>0</td>\n",
       "      <td>0</td>\n",
       "      <td>0</td>\n",
       "      <td>...</td>\n",
       "      <td>0</td>\n",
       "      <td>0</td>\n",
       "      <td>0</td>\n",
       "      <td>0</td>\n",
       "      <td>0</td>\n",
       "      <td>0</td>\n",
       "      <td>0</td>\n",
       "      <td>0</td>\n",
       "      <td>0</td>\n",
       "      <td>0</td>\n",
       "    </tr>\n",
       "    <tr>\n",
       "      <th>9</th>\n",
       "      <td>0</td>\n",
       "      <td>0</td>\n",
       "      <td>0</td>\n",
       "      <td>0</td>\n",
       "      <td>0</td>\n",
       "      <td>0</td>\n",
       "      <td>0</td>\n",
       "      <td>0</td>\n",
       "      <td>0</td>\n",
       "      <td>0</td>\n",
       "      <td>...</td>\n",
       "      <td>0</td>\n",
       "      <td>0</td>\n",
       "      <td>0</td>\n",
       "      <td>0</td>\n",
       "      <td>0</td>\n",
       "      <td>0</td>\n",
       "      <td>0</td>\n",
       "      <td>0</td>\n",
       "      <td>0</td>\n",
       "      <td>0</td>\n",
       "    </tr>\n",
       "    <tr>\n",
       "      <th>10</th>\n",
       "      <td>0</td>\n",
       "      <td>0</td>\n",
       "      <td>0</td>\n",
       "      <td>0</td>\n",
       "      <td>0</td>\n",
       "      <td>1</td>\n",
       "      <td>0</td>\n",
       "      <td>1</td>\n",
       "      <td>0</td>\n",
       "      <td>0</td>\n",
       "      <td>...</td>\n",
       "      <td>0</td>\n",
       "      <td>1</td>\n",
       "      <td>0</td>\n",
       "      <td>0</td>\n",
       "      <td>0</td>\n",
       "      <td>0</td>\n",
       "      <td>0</td>\n",
       "      <td>1</td>\n",
       "      <td>1</td>\n",
       "      <td>0</td>\n",
       "    </tr>\n",
       "  </tbody>\n",
       "</table>\n",
       "<p>10 rows × 610 columns</p>\n",
       "</div>"
      ],
      "text/plain": [
       "userId   1    2    3    4    5    6    7    8    9    10   ...  601  602  603  \\\n",
       "movieId                                                    ...                  \n",
       "1          1    0    0    0    1    0    1    0    0    0  ...    1    0    1   \n",
       "2          0    0    0    0    0    1    0    1    0    0  ...    0    1    0   \n",
       "3          1    0    0    0    0    1    0    0    0    0  ...    0    0    0   \n",
       "4          0    0    0    0    0    1    0    0    0    0  ...    0    0    0   \n",
       "5          0    0    0    0    0    1    0    0    0    0  ...    0    0    0   \n",
       "6          1    0    0    0    0    1    0    0    0    0  ...    0    1    1   \n",
       "7          0    0    0    0    0    1    0    0    0    0  ...    0    0    0   \n",
       "8          0    0    0    0    0    1    0    0    0    0  ...    0    0    0   \n",
       "9          0    0    0    0    0    0    0    0    0    0  ...    0    0    0   \n",
       "10         0    0    0    0    0    1    0    1    0    0  ...    0    1    0   \n",
       "\n",
       "userId   604  605  606  607  608  609  610  \n",
       "movieId                                     \n",
       "1          1    1    1    1    1    1    1  \n",
       "2          1    1    0    0    1    0    0  \n",
       "3          0    0    0    0    1    0    0  \n",
       "4          0    0    0    0    0    0    0  \n",
       "5          1    0    0    0    0    0    0  \n",
       "6          1    0    0    0    0    0    1  \n",
       "7          0    0    1    0    0    0    0  \n",
       "8          0    0    0    0    0    0    0  \n",
       "9          0    0    0    0    0    0    0  \n",
       "10         0    0    0    0    1    1    0  \n",
       "\n",
       "[10 rows x 610 columns]"
      ]
     },
     "execution_count": 19,
     "metadata": {},
     "output_type": "execute_result"
    }
   ],
   "source": [
    "R.head(10)"
   ]
  },
  {
   "cell_type": "code",
   "execution_count": null,
   "id": "31c2734a-36c1-4097-9943-1a89b4819e6b",
   "metadata": {},
   "outputs": [],
   "source": []
  },
  {
   "cell_type": "code",
   "execution_count": null,
   "id": "259b7047-aa4d-421c-a858-40c54b21bacf",
   "metadata": {},
   "outputs": [],
   "source": []
  },
  {
   "cell_type": "markdown",
   "id": "c71b80ff-19c0-4cba-ac02-7f11206f968e",
   "metadata": {},
   "source": [
    "### Create feature matrix X (using genres as features)\n",
    "\n",
    "\n",
    "\n",
    "$$\\[\r\n",
    "\\mathbf{X} = \r\n",
    "\\begin{bmatrix}\r\n",
    "--- (\\mathbf{x}^{(0)})^T --- \\\\\r\n",
    "--- (\\mathbf{x}^{(1)})^T --- v\\\r\n",
    "\\vdots \\\\\r\n",
    "--- (\\mathbf{x}^{(n_m-1)})^T --- \\\\\r\n",
    "\\end{bmatrix} , \\$$quad\r\n",
    "\\]\r\n",
    "quad\r\n",
    "\\]\r\n",
    "\n",
    "\n",
    "The $i$-th row of $\\mathbf{X}$ corresponds to the\r\n",
    "feature vector $x^{(i)}$ for the $i$-th movie \\quad"
   ]
  },
  {
   "cell_type": "code",
   "execution_count": 11,
   "id": "ce86184c-c23f-45c0-95e3-1548aed4b0c6",
   "metadata": {},
   "outputs": [
    {
     "name": "stdout",
     "output_type": "stream",
     "text": [
      "Unique Genres: Index([' ', '(', ')', '-', 'A', 'C', 'D', 'F', 'H', 'I', 'M', 'N', 'R', 'S',\n",
      "       'T', 'W', 'X', 'a', 'c', 'd', 'e', 'g', 'h', 'i', 'l', 'm', 'n', 'o',\n",
      "       'r', 's', 't', 'u', 'v', 'y'],\n",
      "      dtype='object')\n",
      "Number of Unique Genres: 34\n"
     ]
    }
   ],
   "source": [
    "filtered_movies['genres'] = filtered_movies['genres'].apply(lambda x: '|'.join(sorted(map(str, x))))\n",
    "\n",
    "# Now use get_dummies\n",
    "genres = filtered_movies['genres'].str.get_dummies(sep='|')\n",
    "\n",
    "# Check the unique genres and number of unique genres\n",
    "unique_genres = genres.columns\n",
    "num_unique_genres = len(unique_genres)\n",
    "print(\"Unique Genres:\", unique_genres)\n",
    "print(\"Number of Unique Genres:\", num_unique_genres)"
   ]
  },
  {
   "cell_type": "code",
   "execution_count": 12,
   "id": "55e4603a-c4d1-4348-a008-870c8a786da0",
   "metadata": {},
   "outputs": [
    {
     "data": {
      "text/plain": [
       "(9724, 34)"
      ]
     },
     "execution_count": 12,
     "metadata": {},
     "output_type": "execute_result"
    }
   ],
   "source": [
    "X = genres.values\n",
    "# for i in range(10):\n",
    "#     print(X[i])\n",
    "X.shape"
   ]
  },
  {
   "cell_type": "code",
   "execution_count": 13,
   "id": "8f7fcd49-4303-4c44-9643-85c05e9a7b46",
   "metadata": {},
   "outputs": [
    {
     "data": {
      "text/plain": [
       "(9724, 610)"
      ]
     },
     "execution_count": 13,
     "metadata": {},
     "output_type": "execute_result"
    }
   ],
   "source": [
    "Y = pd.pivot_table(ratings, values='rating', index='movieId', columns='userId', fill_value=0,)\n",
    "Y.shape"
   ]
  },
  {
   "cell_type": "markdown",
   "id": "44c14db4-4a65-4fe1-8cfe-8102f51ad443",
   "metadata": {},
   "source": [
    "### Save X, Y, R for faster Load or future use"
   ]
  },
  {
   "cell_type": "code",
   "execution_count": 17,
   "id": "78ac5f0b-6719-4937-8329-f70ca8dc5f17",
   "metadata": {},
   "outputs": [],
   "source": [
    "# Save the Dataframe for future use\n",
    "file_path = './data/processed/'\n",
    "file_name = 'small_movie_R.csv'\n",
    "R.to_csv(file_path+file_name, header=False, index=False)\n"
   ]
  },
  {
   "cell_type": "code",
   "execution_count": 23,
   "id": "8d634b15-60ac-4436-bd99-9306895cce9e",
   "metadata": {},
   "outputs": [
    {
     "data": {
      "text/plain": [
       "(9724, 610)"
      ]
     },
     "execution_count": 23,
     "metadata": {},
     "output_type": "execute_result"
    }
   ],
   "source": [
    "# file = open('./data/processed/small_movie_R.csv', 'rb')\n",
    "# dfss = loadtxt(file, delimiter=\",\")\n",
    "# dfss.shape"
   ]
  },
  {
   "cell_type": "code",
   "execution_count": 26,
   "id": "d94bda02-d456-407d-9ad2-6fd7558bfa4d",
   "metadata": {},
   "outputs": [],
   "source": [
    "file_name = 'small_movie_X.csv'\n",
    "\n",
    "np.savetxt(file_path+file_name, X, delimiter=\",\")"
   ]
  },
  {
   "cell_type": "code",
   "execution_count": 27,
   "id": "0234c33e-87f8-45c5-acc3-fa4ed27fea8b",
   "metadata": {},
   "outputs": [
    {
     "data": {
      "text/plain": [
       "(9724, 34)"
      ]
     },
     "execution_count": 27,
     "metadata": {},
     "output_type": "execute_result"
    }
   ],
   "source": [
    "# file = open('./data/processed/small_movie_X.csv', 'rb')\n",
    "# dfx = loadtxt(file, delimiter=\",\")\n",
    "# dfx.shape"
   ]
  },
  {
   "cell_type": "code",
   "execution_count": 28,
   "id": "048ac469-e0fe-4c4a-b2fb-00bc859d09b5",
   "metadata": {},
   "outputs": [],
   "source": [
    "file_name = 'small_movie_Y.csv'\n",
    "Y.to_csv(file_path+file_name, header=False, index=False)"
   ]
  },
  {
   "cell_type": "code",
   "execution_count": 29,
   "id": "7c9e0e9e-c2e1-42a5-b839-de2e109d380a",
   "metadata": {},
   "outputs": [
    {
     "data": {
      "text/plain": [
       "(9724, 610)"
      ]
     },
     "execution_count": 29,
     "metadata": {},
     "output_type": "execute_result"
    }
   ],
   "source": [
    "# file = open('./data/processed/small_movie_Y.csv', 'rb')\n",
    "# dfz = loadtxt(file, delimiter=\",\")\n",
    "# dfz.shape"
   ]
  },
  {
   "cell_type": "markdown",
   "id": "f5f434a0-3f5e-4a26-96d2-9f198a161527",
   "metadata": {},
   "source": [
    "#### Function to load all csv in X,Y,R, movie list"
   ]
  },
  {
   "cell_type": "code",
   "execution_count": 31,
   "id": "b81fbfeb-c2ed-417e-8c2a-b3f35c9e0e24",
   "metadata": {},
   "outputs": [],
   "source": [
    "def load_processed_data():\n",
    "    file = open('./data/processed/small_movie_X.csv', 'rb')\n",
    "    X = loadtxt(file, delimiter=\",\")\n",
    "    file = open('./data/processed/small_movie_Y.csv', 'rb')\n",
    "    Y = loadtxt(file, delimiter=\",\")\n",
    "    file = open('./data/processed/small_movie_R.csv', 'rb')\n",
    "    R = loadtxt(file, delimiter=\",\")\n",
    "    return(X, Y, R)\n"
   ]
  },
  {
   "cell_type": "code",
   "execution_count": 32,
   "id": "3ec5ef67-7388-4065-a825-60ab3133d518",
   "metadata": {},
   "outputs": [
    {
     "name": "stdout",
     "output_type": "stream",
     "text": [
      "Y (9724, 610) R (9724, 610)\n",
      "X (9724, 34)\n"
     ]
    }
   ],
   "source": [
    "X, Y, R = load_processed_data()\n",
    "print(\"Y\", Y.shape, \"R\", R.shape)\n",
    "print(\"X\", X.shape)"
   ]
  },
  {
   "cell_type": "code",
   "execution_count": null,
   "id": "6506ca2f-c1aa-4af8-bfd6-d824cea8b735",
   "metadata": {},
   "outputs": [],
   "source": []
  }
 ],
 "metadata": {
  "kernelspec": {
   "display_name": "Python 3 (ipykernel)",
   "language": "python",
   "name": "python3"
  },
  "language_info": {
   "codemirror_mode": {
    "name": "ipython",
    "version": 3
   },
   "file_extension": ".py",
   "mimetype": "text/x-python",
   "name": "python",
   "nbconvert_exporter": "python",
   "pygments_lexer": "ipython3",
   "version": "3.10.13"
  }
 },
 "nbformat": 4,
 "nbformat_minor": 5
}
