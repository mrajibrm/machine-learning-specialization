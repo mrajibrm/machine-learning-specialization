{
 "cells": [
  {
   "cell_type": "markdown",
   "id": "c3909223-9ff5-481a-aecd-81dac0ce4a31",
   "metadata": {},
   "source": [
    " # Outline\n",
    "\n",
    " - [1-Packages](#1)\n",
    " - [2-Load Dataset](#2)\n",
    " - [&nbsp;&nbsp; 2.1-Function to load dataset](#2.1)\n",
    " - [&nbsp;&nbsp; 2.2 Load & View Dataset size](#2.2)\n",
    " - [3-Cost Function Implementation](#3)\n",
    " - [&nbsp;&nbsp;3.1-Cost function using for loop](#3.1)\n",
    " - [&nbsp;&nbsp;3.2-Cost Function using vectorization with numpy implementation](#3.2)\n",
    " - [&nbsp;&nbsp;3.3-ost Function using vectorization with Tensorflow implementation-1](#3.3)\n",
    " - [&nbsp;&nbsp;3.4-ost Function using vectorization with Tensorflow implementation-2](#3.4)"
   ]
  },
  {
   "cell_type": "markdown",
   "id": "57866651-9632-4372-bc82-220e965f07ba",
   "metadata": {
    "editable": true,
    "slideshow": {
     "slide_type": ""
    },
    "tags": []
   },
   "source": [
    "<a name=\"1\"></a>\n",
    "##  1-Packages <img align=\"left\" src=\"./images/python-logo.png\"     style=\" width:40px;   \" > "
   ]
  },
  {
   "cell_type": "code",
   "execution_count": 1,
   "id": "9095108c-1d7c-45a6-be45-d94b45fdb5dc",
   "metadata": {
    "editable": true,
    "slideshow": {
     "slide_type": ""
    },
    "tags": []
   },
   "outputs": [],
   "source": [
    "import warnings\n",
    "\n",
    "# Ignore all future warnings\n",
    "warnings.simplefilter(action='ignore', category=FutureWarning)"
   ]
  },
  {
   "cell_type": "code",
   "execution_count": 2,
   "id": "62af8f64-fda8-4bea-b4da-c20f5750528e",
   "metadata": {
    "editable": true,
    "slideshow": {
     "slide_type": ""
    },
    "tags": []
   },
   "outputs": [
    {
     "name": "stdout",
     "output_type": "stream",
     "text": [
      "WARNING:tensorflow:From C:\\Users\\Rajib\\miniconda3\\envs\\myML\\lib\\site-packages\\keras\\src\\losses.py:2976: The name tf.losses.sparse_softmax_cross_entropy is deprecated. Please use tf.compat.v1.losses.sparse_softmax_cross_entropy instead.\n",
      "\n"
     ]
    }
   ],
   "source": [
    "import numpy as np\n",
    "from numpy import loadtxt\n",
    "import pandas as pd\n",
    "import tensorflow as tf"
   ]
  },
  {
   "cell_type": "markdown",
   "id": "1b013655-1b32-451b-b1ad-79819b7033e7",
   "metadata": {},
   "source": [
    "<a name=\"2\"></a>\n",
    "# 2- Load dataset <img align=\"left\" src=\"./images/dataset-logo.png\" style=\"width:30px; \">"
   ]
  },
  {
   "cell_type": "markdown",
   "id": "64a2cee5-6946-4911-9c14-9496c4e92729",
   "metadata": {},
   "source": [
    "<a name='2.1'></a>\n",
    "\n",
    "### 2.1 Function to load datset"
   ]
  },
  {
   "cell_type": "code",
   "execution_count": 3,
   "id": "a8040bee-263f-4cc2-8eee-ed8abf0cb2fb",
   "metadata": {},
   "outputs": [],
   "source": [
    "def load_dataset():\n",
    "    file = open('./data/processed/small_movie_X.csv', 'rb')\n",
    "    X = loadtxt(file, delimiter=\",\")\n",
    "    num_movies, num_features = X.shape\n",
    "    \n",
    "    file = open('./data/processed/small_movie_R.csv', 'rb')\n",
    "    R = loadtxt(file, delimiter=\",\")\n",
    "    _,num_users = R.shape\n",
    "    \n",
    "    file = open('./data/processed/small_movie_Y.csv', 'rb')\n",
    "    Y = loadtxt(file, delimiter=\",\")\n",
    "    return (X, Y, R, num_movies, num_features, num_users)\n",
    "\n",
    "def load_movie_list():\n",
    "    df = pd.read_csv('./data/processed/movie_list_df.csv')\n",
    "    movie_list = df[\"title\"].to_list()\n",
    "    return(df, movie_list)\n",
    "    "
   ]
  },
  {
   "cell_type": "markdown",
   "id": "98e8e0ba-79fa-4a4f-8326-7ec97830cc12",
   "metadata": {},
   "source": [
    "<a name=\"2.2\"></a>\n",
    "\n",
    "### 2.2 Load & View Dataset size"
   ]
  },
  {
   "cell_type": "code",
   "execution_count": 4,
   "id": "56e2cf26-8c8c-4e4b-a6b1-06041ebcf53c",
   "metadata": {},
   "outputs": [
    {
     "name": "stdout",
     "output_type": "stream",
     "text": [
      "Y (9724, 610) R (9724, 610)\n",
      "X (9724, 34)\n",
      "W (610, 34)\n",
      "b (1, 610)\n",
      "num_features 34\n",
      "num_movies 9724\n",
      "num_users 610\n"
     ]
    }
   ],
   "source": [
    "X, Y, R, num_movies, num_features, num_users = load_dataset()\n",
    "\n",
    "df, movie_list = load_movie_list()\n",
    "\n",
    "# Initialize parameters\n",
    "W = np.random.rand(num_users, num_features)\n",
    "b = np.random.rand(1, num_users)\n",
    "\n",
    "print(\"Y\", Y.shape, \"R\", R.shape)\n",
    "print(\"X\", X.shape)\n",
    "print(\"W\", W.shape)\n",
    "print(\"b\", b.shape)\n",
    "print(\"num_features\", num_features)\n",
    "print(\"num_movies\",   num_movies)\n",
    "print(\"num_users\",    num_users)"
   ]
  },
  {
   "cell_type": "code",
   "execution_count": 5,
   "id": "5e8cba86-c9b7-45a1-a0b2-a42592f4b65e",
   "metadata": {},
   "outputs": [
    {
     "name": "stdout",
     "output_type": "stream",
     "text": [
      "Average rating for movie 1 : 3.921 / 5\n"
     ]
    }
   ],
   "source": []
  },
  {
   "cell_type": "markdown",
   "id": "593c6736-fc4d-4fc6-881e-e0279042bafe",
   "metadata": {},
   "source": [
    "<a name=\"3\"></a>\n",
    "\n",
    "# 3- Cost Function Implementation"
   ]
  },
  {
   "cell_type": "markdown",
   "id": "249835bd-2c81-4e66-a619-fa648f08c407",
   "metadata": {},
   "source": [
    "The collaborative filtering algorithm in the setting of movie\r\n",
    "recommendations considers a set of $n$-dimensional parameter vectors\r\n",
    "$\\mathbf{x}^{(0)},...,\\mathbf{x}^{(n_m-1)}$, $\\mathbf{w}^{(0)},...,\\mathbf{w}^{(n_u-1)}$ and $b^{(0)},...,b^{(n_u-1)}$, where the\r\n",
    "model predicts the rating for movie $i$ by user $j$ as\r\n",
    "$y^{(i,j)} = \\mathbf{w}^{(j)}\\cdot \\mathbf{x}^{(i)} + b^{(j)}$ . Given a dataset that consists of\r\n",
    "a set of ratings produced by some users on some movies, you wish to\r\n",
    "learn the parameter vectors $\\mathbf{x}^{(0)},...,\\mathbf{x}^{(n_m-1)},\r\n",
    "\\mathbf{w}^{(0)},...,\\mathbf{w}^{(n_u-1)}$  and $b^{(0)},...,b^{(n_u-1)}$ that produce the best fit (minimizes\r\n",
    "the squared error)."
   ]
  },
  {
   "cell_type": "markdown",
   "id": "cd27a485-c555-4230-b517-1d0a093f965c",
   "metadata": {},
   "source": [
    "#### Collaborative filtering cost function\r\n",
    "\r\n",
    "The collaborative filtering cost function is given by\r\n",
    "$$J({\\mathbf{x}^{(0)},...,\\mathbf{x}^{(n_m-1)},\\mathbf{w}^{(0)},b^{(0)},...,\\mathbf{w}^{(n_u-1)},b^{(n_u-1)}})= \\left[ \\frac{1}{2}\\sum_{(i,j):r(i,j)=1}(\\mathbf{w}^{(j)} \\cdot \\mathbf{x}^{(i)} + b^{(j)} - y^{(i,j)})^2 \\right]\r\n",
    "+ \\underbrace{\\left[\r\n",
    "\\frac{\\lambda}{2}\r\n",
    "\\sum_{j=0}^{n_u-1}\\sum_{k=0}^{n-1}(\\mathbf{w}^{(j)}_k)^2\r\n",
    "+ \\frac{\\lambda}{2}\\sum_{i=0}^{n_m-1}\\sum_{k=0}^{n-1}(\\mathbf{x}_k^{(i)})^2\r\n",
    "\\right]}_{regularization}\r\n",
    "\\tag{1}$$\r\n",
    "The first summation in (1) is \"for all $i$, $j$ where $r(i,j)$ equals $1$\" and could be written:\r\n",
    "\r\n",
    "$$\r\n",
    "= \\left[ \\frac{1}{2}\\sum_{j=0}^{n_u-1} \\sum_{i=0}^{n_m-1}r(i,j)*(\\mathbf{w}^{(j)} \\cdot \\mathbf{x}^{(i)} + b^{(j)} - y^{(i,j)})^2 \\right]\r\n",
    "+\\text{regularization}\r\n",
    "$$"
   ]
  },
  {
   "cell_type": "markdown",
   "id": "c3e8e2ee-e66c-425f-8f0f-2356001489fc",
   "metadata": {},
   "source": [
    "<a name=\"3.1\"></a>\n",
    "\n",
    "## 3.1- Cost function using for loop"
   ]
  },
  {
   "cell_type": "code",
   "execution_count": null,
   "id": "019d94bc-898c-474d-a44f-d56e3b95d926",
   "metadata": {
    "editable": true,
    "slideshow": {
     "slide_type": ""
    },
    "tags": []
   },
   "outputs": [],
   "source": [
    "def cofi_cost_func_for_loop(X, W, b, Y, R, lambda_):\n",
    "    \"\"\"\n",
    "    Returns the cost for the content-based filtering\n",
    "    Args:\n",
    "      X (ndarray (num_movies,num_features)): matrix of item features\n",
    "      W (ndarray (num_users,num_features)) : matrix of user parameters\n",
    "      b (ndarray (1, num_users)            : vector of user parameters\n",
    "      Y (ndarray (num_movies,num_users)    : matrix of user ratings of movies\n",
    "      R (ndarray (num_movies,num_users)    : matrix, where R(i, j) = 1 if the i-th movies was rated by the j-th user\n",
    "      lambda_ (float): regularization parameter\n",
    "    Returns:\n",
    "      J (float) : Cost\n",
    "    \"\"\"\n",
    "    nm, nu = Y.shape\n",
    "    J = 0\n",
    "    \n",
    "    for j in range(nu):\n",
    "        w = W[j,:]\n",
    "        b_j = b[0,j]\n",
    "        \n",
    "        for i in range(nm):\n",
    "            x = X[i,:]\n",
    "            y = Y[i,j]\n",
    "            r = R[i,j]\n",
    "            J += np.square(r * (np.dot(w,x) + b_j -y))\n",
    "    J = J/2\n",
    "    J += (lambda_ / 2) * (np.sum(sp.square(W)) + np.sum(np.square(X)))\n",
    "    return J\n",
    "    \n",
    "    "
   ]
  },
  {
   "cell_type": "markdown",
   "id": "97ba0b31-27e1-4d04-8ab1-ec06362048d6",
   "metadata": {},
   "source": [
    "<a name=\"3.2\"></a>\n",
    "\n",
    "## 3.2- Cost Function using vectorization with numpy implementation <img align=\"left\" src=\"./images/numpy.png\" style=\"width:25px; \">"
   ]
  },
  {
   "cell_type": "code",
   "execution_count": null,
   "id": "89376d0a-8631-4e4e-8a8e-7282e962cbc0",
   "metadata": {
    "editable": true,
    "slideshow": {
     "slide_type": ""
    },
    "tags": []
   },
   "outputs": [],
   "source": [
    "def cofi_cost_func_numpy(X, W, b, Y, R, lambda_ ):\n",
    "    \"\"\"\n",
    "    Returns the cost for the content-based filtering\n",
    "    Args:\n",
    "      X (ndarray (num_movies,num_features)): matrix of item features\n",
    "      W (ndarray (num_users,num_features)) : matrix of user parameters\n",
    "      b (ndarray (1, num_users)            : vector of user parameters\n",
    "      Y (ndarray (num_movies,num_users)    : matrix of user ratings of movies\n",
    "      R (ndarray (num_movies,num_users)    : matrix, where R(i, j) = 1 if the i-th movies was rated by the j-th user\n",
    "      lambda_ (float): regularization parameter\n",
    "    Returns:\n",
    "      J (float) : Cost\n",
    "    \"\"\"\n",
    "    # Vectorized computation of cost\n",
    "    J = (1/2) * np.sum(R * np.square(np.dot(X, W.T) + b - Y))\n",
    "    \n",
    "    # Regularization term\n",
    "    reg_term = (lambda_/2) * (np.sum(np.square(W)) + np.sum(np.square(X)))\n",
    "    \n",
    "    # Compute cost with regularization\n",
    "    J += reg_term\n",
    "    \n",
    "    return J\n",
    "    "
   ]
  },
  {
   "cell_type": "markdown",
   "id": "38d304a3-9bee-4046-9098-5d4acbcecad3",
   "metadata": {},
   "source": [
    "<a name=\"3.3\"></a>\n",
    "\n",
    "## 3.3- Cost Function using vectorization with Tensorflow implementation-1 <img align=\"left\" src=\"./images/tf.png\" style=\"width:25px; \">\n",
    "\n",
    "\n",
    "This implementation requires more memory so below Tensorflow implementation-2 is recommended to compute cost for collaborative filtering: Both are same implementation"
   ]
  },
  {
   "cell_type": "code",
   "execution_count": null,
   "id": "345694cb-886a-4966-bf9e-446d63f05c7d",
   "metadata": {},
   "outputs": [],
   "source": [
    "def cofi_cost_func_tf1(X, W, b, Y, R, lambda_):\n",
    "    # Tensorflow Variable\n",
    "    X_tf = tf.Variable(X, dtype=tf.float32)\n",
    "    W_tf = tf.Variable(W, dtype=tf.float32)\n",
    "    b_tf = tf.Variable(b, dtype=tf.float32)\n",
    "    Y_tf = tf.Variable(Y, dtype=tf.float32)\n",
    "    R_tf = tf.Variable(R, dtype=tf.float32)\n",
    "    # Cost computation\n",
    "    J = 0.5 * tf.reduce_sum(R_tf * tf.square(tf.matmul(X_tf, tf.transpose(W_tf))+ b_tf -Y_tf))\n",
    "    # Regularization term\n",
    "    reg_term = 0.5 * lambda_ * (tf.reduce_sum(tf.square(W)) + tf.reduce_sum(tf.square(X)))\n",
    "    # Compute cost with regularization\n",
    "    J += reg_term\n",
    "    return J"
   ]
  },
  {
   "cell_type": "markdown",
   "id": "19b5a905-92e9-4ffd-8491-6e8f40e16ff5",
   "metadata": {},
   "source": [
    "<a name=\"3.4\"></a>\n",
    " \n",
    "## 3.4- Cost Function using vectorization with Tensorflow implementation-2 <img align=\"left\" src=\"./images/tf.png\" style=\"width:25px; \">\n",
    "\n",
    "Recommended Cost Function Implementation if using Tensorflow"
   ]
  },
  {
   "cell_type": "code",
   "execution_count": null,
   "id": "01db1b4b-f3b1-4647-bf3c-7fbf27cc050b",
   "metadata": {},
   "outputs": [],
   "source": [
    "def cofi_cost_func_tf2(X, W, b, Y, R, lambda_):\n",
    "    \"\"\"\n",
    "    Returns the cost for the content-based filtering\n",
    "    Args:\n",
    "      X (ndarray (num_movies,num_features)): matrix of item features\n",
    "      W (ndarray (num_users,num_features)) : matrix of user parameters\n",
    "      b (ndarray (1, num_users)            : vector of user parameters\n",
    "      Y (ndarray (num_movies,num_users)    : matrix of user ratings of movies\n",
    "      R (ndarray (num_movies,num_users)    : matrix, where R(i, j) = 1 if the i-th movies was rated by the j-th user\n",
    "      lambda_ (float): regularization parameter\n",
    "    Returns:\n",
    "      J (float) : Cost\n",
    "    \"\"\"\n",
    "    # Compute cost\n",
    "    j = (tf.linalg.matmul(X, tf.transpose(W)) + b - Y) * R\n",
    "    J = 0.5 * tf.reduce_sum(j**2) + (lambda_/2) * (tf.reduce_sum(X**2) + tf.reduce_sum(W**2))\n",
    "    return J\n",
    "    "
   ]
  },
  {
   "cell_type": "code",
   "execution_count": null,
   "id": "79e30727-f6de-4abe-b5f8-aaf34a9dc283",
   "metadata": {},
   "outputs": [],
   "source": []
  },
  {
   "cell_type": "markdown",
   "id": "07380889-79a7-4cbb-830b-801db988dcdb",
   "metadata": {},
   "source": [
    "<a name=\"4\"></a>\n",
    "\n",
    "# 4- Learning Recomendation  <img align=\"left\" src=\"./images/film_rating.png\" style=\"width:40px\">"
   ]
  },
  {
   "cell_type": "markdown",
   "id": "e8799c1d-7071-46c2-99c5-b4e25b10a464",
   "metadata": {},
   "source": [
    "<a name=\"4.1\"> </a>\n",
    "\n",
    "## 4.1- Initialize my/user ratings for at least 10 movies\n",
    "\n",
    "\n",
    "You can choose your own ratings here"
   ]
  },
  {
   "cell_type": "code",
   "execution_count": 24,
   "id": "fe804cba-f5fa-4c1c-8092-9961cf7aef02",
   "metadata": {},
   "outputs": [
    {
     "data": {
      "text/plain": [
       "[1290, 7294, 1345, 7292, 9373, 4830, 1521, 9225, 9290, 6401]"
      ]
     },
     "execution_count": 24,
     "metadata": {},
     "output_type": "execute_result"
    }
   ],
   "source": [
    "#---------------------------------------------------------> This part is totally optional and for experimental purpose <------------------------------------------------------\n",
    "\n",
    "# Set seed to get consistent result for creating movie index\n",
    "np.random.seed(42)\n",
    "\n",
    "my_ratings_list_index = np.random.randint(1,9725,size=10).tolist()\n",
    "my_ratings_list_index"
   ]
  },
  {
   "cell_type": "code",
   "execution_count": 5,
   "id": "6b2a208d-9a85-48d3-ad6f-964e44c76eda",
   "metadata": {},
   "outputs": [],
   "source": [
    "my_ratings_list_index = [3569,6726,7571,7750,7752,7784,1182,9173,9288,9417]"
   ]
  },
  {
   "cell_type": "code",
   "execution_count": 6,
   "id": "0621e3a5-7b2a-4caf-8f31-0cd798d63170",
   "metadata": {},
   "outputs": [
    {
     "name": "stdout",
     "output_type": "stream",
     "text": [
      "Index:3569 is movie :Harry Potter and the Sorcerer's Stone (a.k.a. Harry Potter and the Philosopher's Stone) (2001)\n",
      "Index:6726 is movie :Iron Man (2008)\n",
      "Index:7571 is movie :Thor (2011)\n",
      "Index:7750 is movie :Dark Knight Rises, The (2012)\n",
      "Index:7752 is movie :Sherlock Holmes: A Game of Shadows (2011)\n",
      "Index:7784 is movie :Intouchables (2011)\n",
      "Index:1182 is movie :Men in Black (a.k.a. MIB) (1997)\n",
      "Index:9173 is movie :The Devil's Candy (2015)\n",
      "Index:9288 is movie :Now You See Me 2 (2016)\n",
      "Index:9417 is movie :Underworld: Blood Wars (2016)\n"
     ]
    }
   ],
   "source": [
    "# Check the movie names\n",
    "for i in range(len(my_ratings_list_index)):\n",
    "    print(f\"Index:{my_ratings_list_index[i]} is movie :{df.loc[my_ratings_list_index[i], 'title']}\")"
   ]
  },
  {
   "cell_type": "markdown",
   "id": "d2890b38-5771-49f4-b84c-b6113da26254",
   "metadata": {},
   "source": [
    "<a name=\"4.1.1\"> </a>\n",
    "\n",
    "\n",
    "### 4.1.1- Take movie ratings input"
   ]
  },
  {
   "cell_type": "code",
   "execution_count": 20,
   "id": "86926b3a-eb14-47c9-8c6b-d81073c49601",
   "metadata": {},
   "outputs": [
    {
     "name": "stdout",
     "output_type": "stream",
     "text": [
      "Index:1763 is movie :Glen or Glenda (1953)\n",
      "Index:3513 is movie :Silkwood (1983)\n",
      "Index:5709 is movie :In My Father's Den (2004)\n",
      "Index:5025 is movie :Gunga Din (1939)\n",
      "Index:7800 is movie :For a Good Time, Call... (2012)\n",
      "Index:7438 is movie :Megamind (2010)\n",
      "Index:5844 is movie :National Lampoon's Lady Killers (National Lampoon's Gold Diggers) (2003)\n",
      "Index:1646 is movie :Knock Off (1998)\n",
      "Index:6149 is movie :Youth of the Beast (Yaju no seishun) (1963)\n",
      "Index:1179 is movie :Contempt (Mépris, Le) (1963)\n"
     ]
    }
   ],
   "source": [
    "my_ratings = np.zeros(num_movies)\n",
    "\n",
    "# Take inputs\n",
    "for i in range(len(my_ratings_list_index)):\n",
    "    while True:\n",
    "        try:\n",
    "            user_rating = int(input(f\"Enter your rating between 1 & 5 for the movie:{df.loc[my_ratings_list_index[i], 'title']} \"))\n",
    "            if 1 <= user_rating <= 5:\n",
    "                my_ratings[my_ratings_list_index[i].append(user_rating)\n",
    "                break\n",
    "            else:\n",
    "                print()"
   ]
  },
  {
   "cell_type": "code",
   "execution_count": null,
   "id": "4cbee84d-4d4a-4c43-893c-f50a89e63b9e",
   "metadata": {},
   "outputs": [],
   "source": []
  },
  {
   "cell_type": "code",
   "execution_count": null,
   "id": "aa2980e7-2ec0-41f1-8236-2bcad47ffb87",
   "metadata": {},
   "outputs": [],
   "source": []
  }
 ],
 "metadata": {
  "kernelspec": {
   "display_name": "Python 3 (ipykernel)",
   "language": "python",
   "name": "python3"
  },
  "language_info": {
   "codemirror_mode": {
    "name": "ipython",
    "version": 3
   },
   "file_extension": ".py",
   "mimetype": "text/x-python",
   "name": "python",
   "nbconvert_exporter": "python",
   "pygments_lexer": "ipython3",
   "version": "3.10.13"
  }
 },
 "nbformat": 4,
 "nbformat_minor": 5
}
