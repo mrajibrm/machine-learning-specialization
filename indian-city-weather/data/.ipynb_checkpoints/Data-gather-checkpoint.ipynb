{
 "cells": [
  {
   "cell_type": "markdown",
   "id": "2005607d-8f17-47f2-8ee6-27aa3ba758a9",
   "metadata": {},
   "source": [
    "<a name='1'> </a>\n",
    "\n",
    "# 1. Set up Credentials for downloading data directly from Kaggle\n",
    "\n",
    "- You can have your own credentials by visiting [Kaggle](https://www.kaggle.com/)\n",
    "- Follow the bellow Procedures to generate your own credentials: <br>\n",
    "$\\rightarrow$ Sign Up / Sign In to your Kaggle profile. <br>\n",
    "$\\rightarrow$ Click Your Profile  Avatar.<br>\n",
    "$\\rightarrow$ Click on Settings. <br>\n",
    "$\\rightarrow$ Under API Section Click on \"Create New Token\". <br>"
   ]
  },
  {
   "cell_type": "markdown",
   "id": "f0d6d246-b158-4d32-8d2b-2a61e5c1f466",
   "metadata": {},
   "source": [
    "This Will generate a token and \"json\" file named \"kaggle.json\" and the file will be downloaded to your system.\n",
    "\n",
    "This file contains your \"username\" and a unique \"key\". Keep it safely, and handy...."
   ]
  },
  {
   "cell_type": "markdown",
   "id": "4b06bbf9-ad31-47cd-8277-93d7bb60bb5e",
   "metadata": {},
   "source": [
    "### Will use a package name `ipython-secrets` to safeguard the credentials\n",
    "\n",
    "$\\rightarrow$ Install it by this command : `pip install ipython-secrets` <br>\n",
    "Note: Use a `!` before `pip` if you are running this command from notebook cell"
   ]
  },
  {
   "cell_type": "code",
   "execution_count": 1,
   "id": "b69c0fa1-b9c6-46ad-9ddc-edee79b51c71",
   "metadata": {},
   "outputs": [
    {
     "name": "stdout",
     "output_type": "stream",
     "text": [
      "Username has 11 characters\n"
     ]
    }
   ],
   "source": [
    "from ipython_secrets import *\n",
    "username = get_secret('username')\n",
    "print(f\"Username has {len(username)} characters\")\n",
    "\n"
   ]
  },
  {
   "cell_type": "code",
   "execution_count": 2,
   "id": "675ed236-2242-430e-87a9-52ecbb94c102",
   "metadata": {},
   "outputs": [
    {
     "name": "stdout",
     "output_type": "stream",
     "text": [
      "Key has 32 characters\n"
     ]
    }
   ],
   "source": [
    "key = get_secret('key')\n",
    "print(f\"Key has {len(key)} characters\")"
   ]
  },
  {
   "cell_type": "code",
   "execution_count": 4,
   "id": "3a76c17b-8c91-4e4b-87f2-82049c42f38b",
   "metadata": {},
   "outputs": [],
   "source": [
    "import os\n",
    "os.environ[\"KAGGLE_USERNAME\"] = username\n",
    "os.environ[\"KAGGLE_KEY\"] = key"
   ]
  },
  {
   "cell_type": "markdown",
   "id": "291a7bec-9de5-4267-b522-61048d6ede63",
   "metadata": {},
   "source": [
    "# 2. Download the Indian city Weather dataset from kaggle using the below api command\n",
    "\n",
    "[Dataset Link](https://www.kaggle.com/datasets/vanvalkenberg/historicalweatherdataforindiancities/data)\n",
    "\n",
    "The below command will download the dataset in a zip file to the data directory"
   ]
  },
  {
   "cell_type": "code",
   "execution_count": 5,
   "id": "3c001b67-e301-4126-8cb4-3e10294e03b6",
   "metadata": {
    "scrolled": true
   },
   "outputs": [
    {
     "name": "stdout",
     "output_type": "stream",
     "text": [
      "Downloading historicalweatherdataforindiancities.zip to D:\\machine-learning-specialization\\indian-city-weather\\data\n",
      "\n"
     ]
    },
    {
     "name": "stderr",
     "output_type": "stream",
     "text": [
      "\n",
      "  0%|          | 0.00/610k [00:00<?, ?B/s]\n",
      "100%|##########| 610k/610k [00:01<00:00, 462kB/s]\n",
      "100%|##########| 610k/610k [00:01<00:00, 461kB/s]\n"
     ]
    }
   ],
   "source": [
    "!kaggle datasets download -d vanvalkenberg/historicalweatherdataforindiancities"
   ]
  },
  {
   "cell_type": "markdown",
   "id": "a7de2b8f-da3d-45f8-87a3-d4cf6328af64",
   "metadata": {},
   "source": [
    "# 3. Unpack the dataset\n",
    "\n",
    "The below command will unpack the dataset. <br>\n",
    "Note:- I'm running this in windows, I've preinstalled ``7zip``, if you are using Linux or Other Notebook such as (Colab) try ``unzip`` command"
   ]
  },
  {
   "cell_type": "code",
   "execution_count": 8,
   "id": "01e4525e-bf8c-4636-ab23-083417eef7c9",
   "metadata": {},
   "outputs": [
    {
     "name": "stdout",
     "output_type": "stream",
     "text": [
      "\n",
      "7-Zip 23.01 (x64) : Copyright (c) 1999-2023 Igor Pavlov : 2023-06-20\n",
      "\n",
      "Scanning the drive for archives:\n",
      "1 file, 624464 bytes (610 KiB)\n",
      "\n",
      "Extracting archive: D:\\machine-learning-specialization\\indian-city-weather\\data\\historicalweatherdataforindiancities.zip\n",
      "--\n",
      "Path = D:\\machine-learning-specialization\\indian-city-weather\\data\\historicalweatherdataforindiancities.zip\n",
      "Type = zip\n",
      "Physical Size = 624464\n",
      "\n",
      "Everything is Ok\n",
      "\n",
      "Files: 9\n",
      "Size:       2394842\n",
      "Compressed: 624464\n"
     ]
    }
   ],
   "source": [
    "!7z x \"D:/machine-learning-specialization/indian-city-weather/data/historicalweatherdataforindiancities.zip\" -o\"D:/machine-learning-specialization/indian-city-weather/data/\""
   ]
  },
  {
   "cell_type": "code",
   "execution_count": null,
   "id": "6829fbf5-f273-4407-b224-b7a5e29ddce6",
   "metadata": {},
   "outputs": [],
   "source": []
  }
 ],
 "metadata": {
  "kernelspec": {
   "display_name": "Python 3 (ipykernel)",
   "language": "python",
   "name": "python3"
  },
  "language_info": {
   "codemirror_mode": {
    "name": "ipython",
    "version": 3
   },
   "file_extension": ".py",
   "mimetype": "text/x-python",
   "name": "python",
   "nbconvert_exporter": "python",
   "pygments_lexer": "ipython3",
   "version": "3.10.13"
  }
 },
 "nbformat": 4,
 "nbformat_minor": 5
}
